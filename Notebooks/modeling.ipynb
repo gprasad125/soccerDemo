{
 "cells": [
  {
   "cell_type": "code",
   "execution_count": 1,
   "id": "e1262bcc-3bc9-4b3c-a499-28e181c19658",
   "metadata": {},
   "outputs": [],
   "source": [
    "import pandas as pd\n",
    "import numpy as np\n",
    "import matplotlib.pyplot as plt\n",
    "import math\n",
    "import warnings\n",
    "\n",
    "warnings.filterwarnings(\"reload\")\n",
    "\n",
    "from sklearn.model_selection import train_test_split\n",
    "from sklearn.feature_selection import SelectKBest"
   ]
  },
  {
   "cell_type": "code",
   "execution_count": 2,
   "id": "f62789d1-9dd6-40d1-91a0-a3d6befdc451",
   "metadata": {},
   "outputs": [],
   "source": [
    "df = pd.read_csv(\"../Data/predicting_pass.csv\")"
   ]
  },
  {
   "cell_type": "code",
   "execution_count": 3,
   "id": "0d27f49e-234b-4307-9914-64da248fae4f",
   "metadata": {},
   "outputs": [
    {
     "data": {
      "text/html": [
       "<div>\n",
       "<style scoped>\n",
       "    .dataframe tbody tr th:only-of-type {\n",
       "        vertical-align: middle;\n",
       "    }\n",
       "\n",
       "    .dataframe tbody tr th {\n",
       "        vertical-align: top;\n",
       "    }\n",
       "\n",
       "    .dataframe thead th {\n",
       "        text-align: right;\n",
       "    }\n",
       "</style>\n",
       "<table border=\"1\" class=\"dataframe\">\n",
       "  <thead>\n",
       "    <tr style=\"text-align: right;\">\n",
       "      <th></th>\n",
       "      <th>type_id</th>\n",
       "      <th>type_name</th>\n",
       "      <th>possession_team_id</th>\n",
       "      <th>possession_team_name</th>\n",
       "      <th>play_pattern_id</th>\n",
       "      <th>play_pattern_name</th>\n",
       "      <th>team_id</th>\n",
       "      <th>team_name</th>\n",
       "      <th>match_id</th>\n",
       "      <th>id</th>\n",
       "      <th>...</th>\n",
       "      <th>pass_height_name</th>\n",
       "      <th>pass_type_id</th>\n",
       "      <th>pass_type_name</th>\n",
       "      <th>pass_body_part_id</th>\n",
       "      <th>pass_body_part_name</th>\n",
       "      <th>pass_end_location_x</th>\n",
       "      <th>pass_end_location_y</th>\n",
       "      <th>location_x</th>\n",
       "      <th>location_y</th>\n",
       "      <th>Success</th>\n",
       "    </tr>\n",
       "  </thead>\n",
       "  <tbody>\n",
       "    <tr>\n",
       "      <th>0</th>\n",
       "      <td>30</td>\n",
       "      <td>Pass</td>\n",
       "      <td>969</td>\n",
       "      <td>Birmingham City WFC</td>\n",
       "      <td>9</td>\n",
       "      <td>From Kick Off</td>\n",
       "      <td>969</td>\n",
       "      <td>Birmingham City WFC</td>\n",
       "      <td>2275050</td>\n",
       "      <td>c0927b64-b182-4e44-83f0-b77222d600f8</td>\n",
       "      <td>...</td>\n",
       "      <td>Ground Pass</td>\n",
       "      <td>65.0</td>\n",
       "      <td>Kick Off</td>\n",
       "      <td>40.0</td>\n",
       "      <td>Right Foot</td>\n",
       "      <td>53.9</td>\n",
       "      <td>39.6</td>\n",
       "      <td>61.0</td>\n",
       "      <td>40.1</td>\n",
       "      <td>True</td>\n",
       "    </tr>\n",
       "    <tr>\n",
       "      <th>1</th>\n",
       "      <td>30</td>\n",
       "      <td>Pass</td>\n",
       "      <td>969</td>\n",
       "      <td>Birmingham City WFC</td>\n",
       "      <td>9</td>\n",
       "      <td>From Kick Off</td>\n",
       "      <td>969</td>\n",
       "      <td>Birmingham City WFC</td>\n",
       "      <td>2275050</td>\n",
       "      <td>71905fc2-e4fb-4429-8f44-11c3942ade7d</td>\n",
       "      <td>...</td>\n",
       "      <td>High Pass</td>\n",
       "      <td>NaN</td>\n",
       "      <td>NaN</td>\n",
       "      <td>40.0</td>\n",
       "      <td>Right Foot</td>\n",
       "      <td>118.4</td>\n",
       "      <td>72.9</td>\n",
       "      <td>52.8</td>\n",
       "      <td>42.7</td>\n",
       "      <td>True</td>\n",
       "    </tr>\n",
       "    <tr>\n",
       "      <th>2</th>\n",
       "      <td>30</td>\n",
       "      <td>Pass</td>\n",
       "      <td>974</td>\n",
       "      <td>Reading WFC</td>\n",
       "      <td>7</td>\n",
       "      <td>From Goal Kick</td>\n",
       "      <td>974</td>\n",
       "      <td>Reading WFC</td>\n",
       "      <td>2275050</td>\n",
       "      <td>7c8f43bb-78d6-421b-a485-c8ddb83e7b1d</td>\n",
       "      <td>...</td>\n",
       "      <td>Ground Pass</td>\n",
       "      <td>63.0</td>\n",
       "      <td>Goal Kick</td>\n",
       "      <td>38.0</td>\n",
       "      <td>Left Foot</td>\n",
       "      <td>13.4</td>\n",
       "      <td>54.2</td>\n",
       "      <td>6.0</td>\n",
       "      <td>44.0</td>\n",
       "      <td>True</td>\n",
       "    </tr>\n",
       "    <tr>\n",
       "      <th>3</th>\n",
       "      <td>30</td>\n",
       "      <td>Pass</td>\n",
       "      <td>974</td>\n",
       "      <td>Reading WFC</td>\n",
       "      <td>7</td>\n",
       "      <td>From Goal Kick</td>\n",
       "      <td>974</td>\n",
       "      <td>Reading WFC</td>\n",
       "      <td>2275050</td>\n",
       "      <td>575a6ca7-9736-4487-bd1f-12ee10011319</td>\n",
       "      <td>...</td>\n",
       "      <td>Ground Pass</td>\n",
       "      <td>NaN</td>\n",
       "      <td>NaN</td>\n",
       "      <td>40.0</td>\n",
       "      <td>Right Foot</td>\n",
       "      <td>62.0</td>\n",
       "      <td>60.2</td>\n",
       "      <td>39.6</td>\n",
       "      <td>58.2</td>\n",
       "      <td>True</td>\n",
       "    </tr>\n",
       "    <tr>\n",
       "      <th>4</th>\n",
       "      <td>30</td>\n",
       "      <td>Pass</td>\n",
       "      <td>974</td>\n",
       "      <td>Reading WFC</td>\n",
       "      <td>7</td>\n",
       "      <td>From Goal Kick</td>\n",
       "      <td>969</td>\n",
       "      <td>Birmingham City WFC</td>\n",
       "      <td>2275050</td>\n",
       "      <td>719c6c68-fa1e-4aab-ab70-601450bc44d6</td>\n",
       "      <td>...</td>\n",
       "      <td>High Pass</td>\n",
       "      <td>NaN</td>\n",
       "      <td>NaN</td>\n",
       "      <td>38.0</td>\n",
       "      <td>Left Foot</td>\n",
       "      <td>69.9</td>\n",
       "      <td>13.3</td>\n",
       "      <td>35.8</td>\n",
       "      <td>9.9</td>\n",
       "      <td>True</td>\n",
       "    </tr>\n",
       "  </tbody>\n",
       "</table>\n",
       "<p>5 rows × 31 columns</p>\n",
       "</div>"
      ],
      "text/plain": [
       "   type_id type_name  possession_team_id possession_team_name  \\\n",
       "0       30      Pass                 969  Birmingham City WFC   \n",
       "1       30      Pass                 969  Birmingham City WFC   \n",
       "2       30      Pass                 974          Reading WFC   \n",
       "3       30      Pass                 974          Reading WFC   \n",
       "4       30      Pass                 974          Reading WFC   \n",
       "\n",
       "   play_pattern_id play_pattern_name  team_id            team_name  match_id  \\\n",
       "0                9     From Kick Off      969  Birmingham City WFC   2275050   \n",
       "1                9     From Kick Off      969  Birmingham City WFC   2275050   \n",
       "2                7    From Goal Kick      974          Reading WFC   2275050   \n",
       "3                7    From Goal Kick      974          Reading WFC   2275050   \n",
       "4                7    From Goal Kick      969  Birmingham City WFC   2275050   \n",
       "\n",
       "                                     id  ...  pass_height_name  pass_type_id  \\\n",
       "0  c0927b64-b182-4e44-83f0-b77222d600f8  ...       Ground Pass          65.0   \n",
       "1  71905fc2-e4fb-4429-8f44-11c3942ade7d  ...         High Pass           NaN   \n",
       "2  7c8f43bb-78d6-421b-a485-c8ddb83e7b1d  ...       Ground Pass          63.0   \n",
       "3  575a6ca7-9736-4487-bd1f-12ee10011319  ...       Ground Pass           NaN   \n",
       "4  719c6c68-fa1e-4aab-ab70-601450bc44d6  ...         High Pass           NaN   \n",
       "\n",
       "  pass_type_name  pass_body_part_id  pass_body_part_name  pass_end_location_x  \\\n",
       "0       Kick Off               40.0           Right Foot                 53.9   \n",
       "1            NaN               40.0           Right Foot                118.4   \n",
       "2      Goal Kick               38.0            Left Foot                 13.4   \n",
       "3            NaN               40.0           Right Foot                 62.0   \n",
       "4            NaN               38.0            Left Foot                 69.9   \n",
       "\n",
       "   pass_end_location_y  location_x  location_y Success  \n",
       "0                 39.6        61.0        40.1    True  \n",
       "1                 72.9        52.8        42.7    True  \n",
       "2                 54.2         6.0        44.0    True  \n",
       "3                 60.2        39.6        58.2    True  \n",
       "4                 13.3        35.8         9.9    True  \n",
       "\n",
       "[5 rows x 31 columns]"
      ]
     },
     "execution_count": 3,
     "metadata": {},
     "output_type": "execute_result"
    }
   ],
   "source": [
    "df.head()"
   ]
  },
  {
   "cell_type": "code",
   "execution_count": 4,
   "id": "6143784c-d1b2-40d3-9d83-356e9bee9587",
   "metadata": {},
   "outputs": [],
   "source": [
    "non_id = []\n",
    "for col in df.columns:\n",
    "    if \"id\" not in col:\n",
    "        non_id.append(col)\n",
    "\n",
    "def convert_to_angle(angle):\n",
    "    \n",
    "    factor = 180 / math.pi\n",
    "    return angle * factor"
   ]
  },
  {
   "cell_type": "code",
   "execution_count": 5,
   "id": "2b402920-7041-42f4-9011-efb7d93ef69f",
   "metadata": {},
   "outputs": [],
   "source": [
    "df = df[non_id]\n",
    "df[\"pass_angle\"] = df[\"pass_angle\"].apply(convert_to_angle)\n",
    "df = df.drop(columns = [\"index\", \"pass_recipient_name\", \"pass_type_name\", \"pass_body_part_name\", \"timestamp\"])"
   ]
  },
  {
   "cell_type": "code",
   "execution_count": 21,
   "id": "2e2a7e87-2f5f-41e8-902e-48eeb80f22d5",
   "metadata": {},
   "outputs": [],
   "source": [
    "x = df.drop(columns = [\"Success\"])\n",
    "y = df[\"Success\"]\n",
    "\n",
    "x_train, x_test, y_train, y_test = train_test_split(x, y, test_size = 0.3)\n",
    "print(x_train.shape, \",\", x_test.shape)"
   ]
  },
  {
   "cell_type": "code",
   "execution_count": 58,
   "id": "0d3960c4",
   "metadata": {},
   "outputs": [],
   "source": [
    "def compare_models(x, y):\n",
    "    \n",
    "    x_train, x_test, y_train, y_test = train_test_split(x, y, test_size = 0.3)\n",
    "    x_train_tr = col_tr.fit_transform(x_train)\n",
    "    x_test_tr = col_tr.fit_transform(x_test)\n",
    "    \n",
    "    model = DecisionTreeClassifier()\n",
    "    model = model.fit(x_train_tr, y_train)\n",
    "    \n",
    "    orig_preds = model.predict(x_test_tr)\n",
    "    bool_arr = (preds == y_test)\n",
    "    orig_acc = bool_arr.mean()\n",
    "    \n",
    "    feature_selector = SelectKBest()\n",
    "    fitted_fs = feature_selector.fit(x_train_tr, y_train)\n",
    "\n",
    "    new_x_train = fitted_fs.transform(x_train_tr)\n",
    "    new_x_test = fitted_fs.transform(x_test_tr)\n",
    "    \n",
    "    new_model = DecisionTreeClassifier()\n",
    "    new_model = new_model.fit(new_x_train, y_train)\n",
    "    \n",
    "    new_preds = new_model.predict(new_x_test)\n",
    "    bool_arr = (preds == y_test)\n",
    "    new_acc = bool_arr.mean()\n",
    "    \n",
    "    return [orig_acc, new_acc]"
   ]
  },
  {
   "cell_type": "code",
   "execution_count": null,
   "id": "efb77aae",
   "metadata": {},
   "outputs": [
    {
     "name": "stderr",
     "output_type": "stream",
     "text": [
      "/Users/gokul/opt/anaconda3/lib/python3.8/site-packages/sklearn/feature_selection/_univariate_selection.py:112: UserWarning: Features [0] are constant.\n",
      "  warnings.warn(\"Features %s are constant.\" % constant_features_idx, UserWarning)\n",
      "/Users/gokul/opt/anaconda3/lib/python3.8/site-packages/sklearn/feature_selection/_univariate_selection.py:113: RuntimeWarning: invalid value encountered in true_divide\n",
      "  f = msb / msw\n"
     ]
    },
    {
     "name": "stdout",
     "output_type": "stream",
     "text": [
      "[0.9658988804973409, 0.9658988804973409]\n"
     ]
    },
    {
     "name": "stderr",
     "output_type": "stream",
     "text": [
      "/Users/gokul/opt/anaconda3/lib/python3.8/site-packages/sklearn/feature_selection/_univariate_selection.py:112: UserWarning: Features [0] are constant.\n",
      "  warnings.warn(\"Features %s are constant.\" % constant_features_idx, UserWarning)\n",
      "/Users/gokul/opt/anaconda3/lib/python3.8/site-packages/sklearn/feature_selection/_univariate_selection.py:113: RuntimeWarning: invalid value encountered in true_divide\n",
      "  f = msb / msw\n"
     ]
    },
    {
     "name": "stdout",
     "output_type": "stream",
     "text": [
      "[0.9657804949124553, 0.9657804949124553]\n"
     ]
    },
    {
     "name": "stderr",
     "output_type": "stream",
     "text": [
      "/Users/gokul/opt/anaconda3/lib/python3.8/site-packages/sklearn/feature_selection/_univariate_selection.py:112: UserWarning: Features [0] are constant.\n",
      "  warnings.warn(\"Features %s are constant.\" % constant_features_idx, UserWarning)\n",
      "/Users/gokul/opt/anaconda3/lib/python3.8/site-packages/sklearn/feature_selection/_univariate_selection.py:113: RuntimeWarning: invalid value encountered in true_divide\n",
      "  f = msb / msw\n"
     ]
    },
    {
     "name": "stdout",
     "output_type": "stream",
     "text": [
      "[0.9660172660822264, 0.9660172660822264]\n"
     ]
    },
    {
     "name": "stderr",
     "output_type": "stream",
     "text": [
      "/Users/gokul/opt/anaconda3/lib/python3.8/site-packages/sklearn/feature_selection/_univariate_selection.py:112: UserWarning: Features [0] are constant.\n",
      "  warnings.warn(\"Features %s are constant.\" % constant_features_idx, UserWarning)\n",
      "/Users/gokul/opt/anaconda3/lib/python3.8/site-packages/sklearn/feature_selection/_univariate_selection.py:113: RuntimeWarning: invalid value encountered in true_divide\n",
      "  f = msb / msw\n"
     ]
    }
   ],
   "source": [
    "for i in range(10):\n",
    "    \n",
    "    print(compare_models(x, y))"
   ]
  },
  {
   "cell_type": "code",
   "execution_count": 23,
   "id": "b7ab1a3d-3ab0-4f8d-bfe0-c03786d3e3a2",
   "metadata": {},
   "outputs": [],
   "source": [
    "categorical_columns = x.dtypes[x.dtypes == \"object\"].index.tolist()\n",
    "numerical_columns = x.dtypes[x.dtypes != \"object\"].index.tolist()"
   ]
  },
  {
   "cell_type": "code",
   "execution_count": 24,
   "id": "2b366f99-1f68-411b-8304-543d63a92033",
   "metadata": {},
   "outputs": [],
   "source": [
    "from sklearn.pipeline import Pipeline\n",
    "from sklearn.preprocessing import OneHotEncoder\n",
    "from sklearn.tree import DecisionTreeClassifier\n",
    "from sklearn.compose import ColumnTransformer\n",
    "from sklearn.preprocessing import StandardScaler"
   ]
  },
  {
   "cell_type": "code",
   "execution_count": 33,
   "id": "02881f2d-cecc-4a42-badf-c50d2f195632",
   "metadata": {},
   "outputs": [],
   "source": [
    "num_pl = StandardScaler()\n",
    "cat_pl = OneHotEncoder()\n",
    "\n",
    "col_tr = ColumnTransformer([(\"categorical\", cat_pl, categorical_columns),\n",
    "                            (\"numerical\", num_pl, numerical_columns)])\n",
    "\n",
    "x_train_tr = col_tr.fit_transform(x_train)\n",
    "x_test_tr = col_tr.fit_transform(x_test)"
   ]
  },
  {
   "cell_type": "code",
   "execution_count": 35,
   "id": "e7ef203a-8d74-40ba-949a-e86ece7a8802",
   "metadata": {},
   "outputs": [],
   "source": [
    "model = DecisionTreeClassifier()\n",
    "model = model.fit(x_train_tr, y_train)"
   ]
  },
  {
   "cell_type": "code",
   "execution_count": 37,
   "id": "e8280a51",
   "metadata": {},
   "outputs": [],
   "source": [
    "preds = model.predict(x_test_tr)"
   ]
  },
  {
   "cell_type": "code",
   "execution_count": 38,
   "id": "31cd74b0",
   "metadata": {
    "scrolled": true
   },
   "outputs": [
    {
     "data": {
      "text/plain": [
       "0.9699695233007115"
      ]
     },
     "execution_count": 38,
     "metadata": {},
     "output_type": "execute_result"
    }
   ],
   "source": [
    "bool_arr = (preds == y_test)\n",
    "bool_arr.mean()"
   ]
  },
  {
   "cell_type": "code",
   "execution_count": 55,
   "id": "915c9f8d",
   "metadata": {
    "scrolled": false
   },
   "outputs": [
    {
     "name": "stderr",
     "output_type": "stream",
     "text": [
      "/Users/gokul/opt/anaconda3/lib/python3.8/site-packages/sklearn/feature_selection/_univariate_selection.py:112: UserWarning: Features [0] are constant.\n",
      "  warnings.warn(\"Features %s are constant.\" % constant_features_idx, UserWarning)\n",
      "/Users/gokul/opt/anaconda3/lib/python3.8/site-packages/sklearn/feature_selection/_univariate_selection.py:113: RuntimeWarning: invalid value encountered in true_divide\n",
      "  f = msb / msw\n"
     ]
    }
   ],
   "source": [
    "feature_selector = SelectKBest()\n",
    "fitted_fs = feature_selector.fit(x_train_tr, y_train)\n",
    "\n",
    "new_x_train = fitted_fs.transform(x_train_tr)\n",
    "new_x_test = fitted_fs.transform(x_test_tr)"
   ]
  },
  {
   "cell_type": "code",
   "execution_count": 56,
   "id": "e605376c",
   "metadata": {},
   "outputs": [],
   "source": [
    "new_model = DecisionTreeClassifier()\n",
    "new_model = new_model.fit(new_x_train, y_train)"
   ]
  },
  {
   "cell_type": "code",
   "execution_count": 57,
   "id": "f2f67f08",
   "metadata": {},
   "outputs": [
    {
     "data": {
      "text/plain": [
       "0.9697084679083999"
      ]
     },
     "execution_count": 57,
     "metadata": {},
     "output_type": "execute_result"
    }
   ],
   "source": [
    "(new_model.predict(new_x_test) == y_test).mean()"
   ]
  },
  {
   "cell_type": "code",
   "execution_count": 16,
   "id": "824443f7",
   "metadata": {},
   "outputs": [],
   "source": [
    "from sklearn.metrics import f1_score\n",
    "\n",
    "f1 = f1_score(y_test, preds)"
   ]
  },
  {
   "cell_type": "code",
   "execution_count": 17,
   "id": "c29baf69",
   "metadata": {},
   "outputs": [
    {
     "data": {
      "text/plain": [
       "0.9851514117507191"
      ]
     },
     "execution_count": 17,
     "metadata": {},
     "output_type": "execute_result"
    }
   ],
   "source": [
    "f1"
   ]
  },
  {
   "cell_type": "code",
   "execution_count": 25,
   "id": "7a8001e8",
   "metadata": {},
   "outputs": [
    {
     "data": {
      "text/html": [
       "<div>\n",
       "<style scoped>\n",
       "    .dataframe tbody tr th:only-of-type {\n",
       "        vertical-align: middle;\n",
       "    }\n",
       "\n",
       "    .dataframe tbody tr th {\n",
       "        vertical-align: top;\n",
       "    }\n",
       "\n",
       "    .dataframe thead th {\n",
       "        text-align: right;\n",
       "    }\n",
       "</style>\n",
       "<table border=\"1\" class=\"dataframe\">\n",
       "  <thead>\n",
       "    <tr style=\"text-align: right;\">\n",
       "      <th></th>\n",
       "      <th>type_name</th>\n",
       "      <th>possession_team_name</th>\n",
       "      <th>play_pattern_name</th>\n",
       "      <th>team_name</th>\n",
       "      <th>index</th>\n",
       "      <th>period</th>\n",
       "      <th>minute</th>\n",
       "      <th>second</th>\n",
       "      <th>possession</th>\n",
       "      <th>pass_length</th>\n",
       "      <th>pass_angle</th>\n",
       "      <th>pass_height_name</th>\n",
       "      <th>pass_end_location_x</th>\n",
       "      <th>pass_end_location_y</th>\n",
       "      <th>location_x</th>\n",
       "      <th>location_y</th>\n",
       "      <th>Success</th>\n",
       "    </tr>\n",
       "  </thead>\n",
       "  <tbody>\n",
       "    <tr>\n",
       "      <th>686390</th>\n",
       "      <td>Pass</td>\n",
       "      <td>Barcelona</td>\n",
       "      <td>From Counter</td>\n",
       "      <td>Barcelona</td>\n",
       "      <td>3708</td>\n",
       "      <td>2</td>\n",
       "      <td>73</td>\n",
       "      <td>24</td>\n",
       "      <td>162</td>\n",
       "      <td>27.313000</td>\n",
       "      <td>-1.156289</td>\n",
       "      <td>High Pass</td>\n",
       "      <td>97.0</td>\n",
       "      <td>12.0</td>\n",
       "      <td>86.0</td>\n",
       "      <td>37.0</td>\n",
       "      <td>True</td>\n",
       "    </tr>\n",
       "    <tr>\n",
       "      <th>701060</th>\n",
       "      <td>Pass</td>\n",
       "      <td>Argentina</td>\n",
       "      <td>From Corner</td>\n",
       "      <td>Argentina</td>\n",
       "      <td>1525</td>\n",
       "      <td>1</td>\n",
       "      <td>39</td>\n",
       "      <td>25</td>\n",
       "      <td>55</td>\n",
       "      <td>25.495098</td>\n",
       "      <td>-1.768192</td>\n",
       "      <td>Ground Pass</td>\n",
       "      <td>72.0</td>\n",
       "      <td>13.0</td>\n",
       "      <td>77.0</td>\n",
       "      <td>38.0</td>\n",
       "      <td>True</td>\n",
       "    </tr>\n",
       "    <tr>\n",
       "      <th>89146</th>\n",
       "      <td>Pass</td>\n",
       "      <td>Barcelona</td>\n",
       "      <td>From Throw In</td>\n",
       "      <td>Barcelona</td>\n",
       "      <td>449</td>\n",
       "      <td>1</td>\n",
       "      <td>9</td>\n",
       "      <td>43</td>\n",
       "      <td>34</td>\n",
       "      <td>11.458621</td>\n",
       "      <td>0.561375</td>\n",
       "      <td>Ground Pass</td>\n",
       "      <td>72.8</td>\n",
       "      <td>64.9</td>\n",
       "      <td>63.1</td>\n",
       "      <td>58.8</td>\n",
       "      <td>True</td>\n",
       "    </tr>\n",
       "    <tr>\n",
       "      <th>1072548</th>\n",
       "      <td>Pass</td>\n",
       "      <td>West Ham United LFC</td>\n",
       "      <td>From Throw In</td>\n",
       "      <td>West Ham United LFC</td>\n",
       "      <td>1614</td>\n",
       "      <td>1</td>\n",
       "      <td>40</td>\n",
       "      <td>33</td>\n",
       "      <td>97</td>\n",
       "      <td>9.178780</td>\n",
       "      <td>-1.155891</td>\n",
       "      <td>Low Pass</td>\n",
       "      <td>44.5</td>\n",
       "      <td>71.6</td>\n",
       "      <td>40.8</td>\n",
       "      <td>80.0</td>\n",
       "      <td>True</td>\n",
       "    </tr>\n",
       "    <tr>\n",
       "      <th>624278</th>\n",
       "      <td>Pass</td>\n",
       "      <td>Barcelona</td>\n",
       "      <td>From Throw In</td>\n",
       "      <td>Barcelona</td>\n",
       "      <td>3881</td>\n",
       "      <td>2</td>\n",
       "      <td>93</td>\n",
       "      <td>12</td>\n",
       "      <td>168</td>\n",
       "      <td>7.410803</td>\n",
       "      <td>3.087591</td>\n",
       "      <td>Ground Pass</td>\n",
       "      <td>91.2</td>\n",
       "      <td>77.8</td>\n",
       "      <td>98.6</td>\n",
       "      <td>77.4</td>\n",
       "      <td>True</td>\n",
       "    </tr>\n",
       "  </tbody>\n",
       "</table>\n",
       "</div>"
      ],
      "text/plain": [
       "        type_name possession_team_name play_pattern_name            team_name  \\\n",
       "686390       Pass            Barcelona      From Counter            Barcelona   \n",
       "701060       Pass            Argentina       From Corner            Argentina   \n",
       "89146        Pass            Barcelona     From Throw In            Barcelona   \n",
       "1072548      Pass  West Ham United LFC     From Throw In  West Ham United LFC   \n",
       "624278       Pass            Barcelona     From Throw In            Barcelona   \n",
       "\n",
       "         index  period  minute  second  possession  pass_length  pass_angle  \\\n",
       "686390    3708       2      73      24         162    27.313000   -1.156289   \n",
       "701060    1525       1      39      25          55    25.495098   -1.768192   \n",
       "89146      449       1       9      43          34    11.458621    0.561375   \n",
       "1072548   1614       1      40      33          97     9.178780   -1.155891   \n",
       "624278    3881       2      93      12         168     7.410803    3.087591   \n",
       "\n",
       "        pass_height_name  pass_end_location_x  pass_end_location_y  \\\n",
       "686390         High Pass                 97.0                 12.0   \n",
       "701060       Ground Pass                 72.0                 13.0   \n",
       "89146        Ground Pass                 72.8                 64.9   \n",
       "1072548         Low Pass                 44.5                 71.6   \n",
       "624278       Ground Pass                 91.2                 77.8   \n",
       "\n",
       "         location_x  location_y  Success  \n",
       "686390         86.0        37.0     True  \n",
       "701060         77.0        38.0     True  \n",
       "89146          63.1        58.8     True  \n",
       "1072548        40.8        80.0     True  \n",
       "624278         98.6        77.4     True  "
      ]
     },
     "execution_count": 25,
     "metadata": {},
     "output_type": "execute_result"
    }
   ],
   "source": [
    "test = pd.concat([x_test, y_test], axis = 1)\n",
    "test.head()"
   ]
  },
  {
   "cell_type": "code",
   "execution_count": 26,
   "id": "01633bf5",
   "metadata": {},
   "outputs": [],
   "source": [
    "true = test[test[\"Success\"] == True]\n",
    "false = test[test[\"Success\"] == False]"
   ]
  },
  {
   "cell_type": "code",
   "execution_count": 27,
   "id": "0e042637",
   "metadata": {},
   "outputs": [
    {
     "data": {
      "text/plain": [
       "<AxesSubplot:>"
      ]
     },
     "execution_count": 27,
     "metadata": {},
     "output_type": "execute_result"
    },
    {
     "data": {
      "image/png": "[encoded data removed]",
      "text/plain": [
       "<Figure size 432x288 with 1 Axes>"
      ]
     },
     "metadata": {
      "needs_background": "light"
     },
     "output_type": "display_data"
    }
   ],
   "source": [
    "true['pass_length'].hist()"
   ]
  },
  {
   "cell_type": "code",
   "execution_count": 29,
   "id": "694e4df4",
   "metadata": {},
   "outputs": [
    {
     "data": {
      "text/plain": [
       "<AxesSubplot:>"
      ]
     },
     "execution_count": 29,
     "metadata": {},
     "output_type": "execute_result"
    },
    {
     "data": {
      "image/png": "[encoded data removed]",
      "text/plain": [
       "<Figure size 432x288 with 1 Axes>"
      ]
     },
     "metadata": {
      "needs_background": "light"
     },
     "output_type": "display_data"
    }
   ],
   "source": [
    "false['pass_length'].hist()"
   ]
  },
  {
   "cell_type": "code",
   "execution_count": 30,
   "id": "72601664",
   "metadata": {},
   "outputs": [],
   "source": [
    "import math"
   ]
  },
  {
   "cell_type": "code",
   "execution_count": 32,
   "id": "e0e7c0b8",
   "metadata": {},
   "outputs": [
    {
     "data": {
      "text/plain": [
       "<AxesSubplot:>"
      ]
     },
     "execution_count": 32,
     "metadata": {},
     "output_type": "execute_result"
    },
    {
     "data": {
      "image/png": "[encoded data removed]",
      "text/plain": [
       "<Figure size 432x288 with 1 Axes>"
      ]
     },
     "metadata": {
      "needs_background": "light"
     },
     "output_type": "display_data"
    }
   ],
   "source": [
    "(true['pass_angle'] * (180 / math.pi)).hist()"
   ]
  },
  {
   "cell_type": "code",
   "execution_count": 33,
   "id": "f0535184",
   "metadata": {},
   "outputs": [
    {
     "data": {
      "text/plain": [
       "<AxesSubplot:>"
      ]
     },
     "execution_count": 33,
     "metadata": {},
     "output_type": "execute_result"
    },
    {
     "data": {
      "image/png": "[encoded data removed]",
      "text/plain": [
       "<Figure size 432x288 with 1 Axes>"
      ]
     },
     "metadata": {
      "needs_background": "light"
     },
     "output_type": "display_data"
    }
   ],
   "source": [
    "(false['pass_angle'] * (180 / math.pi)).hist()"
   ]
  },
  {
   "cell_type": "code",
   "execution_count": 42,
   "id": "4c459c9b",
   "metadata": {},
   "outputs": [
    {
     "data": {
      "text/plain": [
       "<AxesSubplot:>"
      ]
     },
     "execution_count": 42,
     "metadata": {},
     "output_type": "execute_result"
    },
    {
     "data": {
      "image/png": "[encoded data removed]",
      "text/plain": [
       "<Figure size 432x288 with 1 Axes>"
      ]
     },
     "metadata": {
      "needs_background": "light"
     },
     "output_type": "display_data"
    }
   ],
   "source": [
    "pct_hts = true['pass_height_name'].value_counts() / true.shape[0]\n",
    "pct_hts.plot(kind = 'bar')"
   ]
  },
  {
   "cell_type": "code",
   "execution_count": 44,
   "id": "3a6eeb1f",
   "metadata": {},
   "outputs": [
    {
     "data": {
      "text/plain": [
       "<AxesSubplot:>"
      ]
     },
     "execution_count": 44,
     "metadata": {},
     "output_type": "execute_result"
    },
    {
     "data": {
      "image/png": "[encoded data removed]",
      "text/plain": [
       "<Figure size 432x288 with 1 Axes>"
      ]
     },
     "metadata": {
      "needs_background": "light"
     },
     "output_type": "display_data"
    }
   ],
   "source": [
    "pct_hts_false = false['pass_height_name'].value_counts() / false.shape[0]\n",
    "pct_hts_false.plot(kind = 'bar')"
   ]
  },
  {
   "cell_type": "code",
   "execution_count": null,
   "id": "6ff0d042",
   "metadata": {},
   "outputs": [],
   "source": []
  }
 ],
 "metadata": {
  "kernelspec": {
   "display_name": "Python 3 (ipykernel)",
   "language": "python",
   "name": "python3"
  },
  "language_info": {
   "codemirror_mode": {
    "name": "ipython",
    "version": 3
   },
   "file_extension": ".py",
   "mimetype": "text/x-python",
   "name": "python",
   "nbconvert_exporter": "python",
   "pygments_lexer": "ipython3",
   "version": "3.8.2"
  }
 },
 "nbformat": 4,
 "nbformat_minor": 5
}

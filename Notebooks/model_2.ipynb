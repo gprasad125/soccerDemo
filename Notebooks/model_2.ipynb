{
 "cells": [
  {
   "cell_type": "code",
   "execution_count": 1,
   "id": "ddfe3521-d289-4619-83ec-da69d9c57ff9",
   "metadata": {},
   "outputs": [],
   "source": [
    "import pandas as pd\n",
    "import numpy as np\n",
    "import matplotlib.pyplot as plt\n",
    "import math\n",
    "import warnings\n",
    "\n",
    "warnings.filterwarnings(\"ignore\")\n",
    "\n",
    "from sklearn.model_selection import train_test_split, GridSearchCV\n",
    "from sklearn.feature_selection import SelectKBest\n",
    "from sklearn.metrics import f1_score, confusion_matrix,  ConfusionMatrixDisplay\n",
    "\n",
    "from sklearn.pipeline import Pipeline\n",
    "from sklearn.preprocessing import OneHotEncoder, StandardScaler\n",
    "from sklearn.tree import DecisionTreeClassifier\n",
    "from sklearn.compose import ColumnTransformer\n",
    "\n",
    "from skopt import BayesSearchCV"
   ]
  },
  {
   "cell_type": "code",
   "execution_count": 26,
   "id": "addf2dd7-a321-4003-b69d-5d349306f55a",
   "metadata": {},
   "outputs": [
    {
     "data": {
      "text/html": [
       "<div>\n",
       "<style scoped>\n",
       "    .dataframe tbody tr th:only-of-type {\n",
       "        vertical-align: middle;\n",
       "    }\n",
       "\n",
       "    .dataframe tbody tr th {\n",
       "        vertical-align: top;\n",
       "    }\n",
       "\n",
       "    .dataframe thead th {\n",
       "        text-align: right;\n",
       "    }\n",
       "</style>\n",
       "<table border=\"1\" class=\"dataframe\">\n",
       "  <thead>\n",
       "    <tr style=\"text-align: right;\">\n",
       "      <th></th>\n",
       "      <th>level_0</th>\n",
       "      <th>type_id</th>\n",
       "      <th>type_name_x</th>\n",
       "      <th>possession_team_id</th>\n",
       "      <th>possession_team_name</th>\n",
       "      <th>play_pattern_id</th>\n",
       "      <th>play_pattern_name</th>\n",
       "      <th>team_id</th>\n",
       "      <th>team_name</th>\n",
       "      <th>match_id</th>\n",
       "      <th>...</th>\n",
       "      <th>pass_type_id</th>\n",
       "      <th>pass_type_name</th>\n",
       "      <th>pass_body_part_id</th>\n",
       "      <th>pass_body_part_name</th>\n",
       "      <th>pass_end_location_x</th>\n",
       "      <th>pass_end_location_y</th>\n",
       "      <th>location_x</th>\n",
       "      <th>location_y</th>\n",
       "      <th>idx</th>\n",
       "      <th>type_name_y</th>\n",
       "    </tr>\n",
       "  </thead>\n",
       "  <tbody>\n",
       "    <tr>\n",
       "      <th>0</th>\n",
       "      <td>4</td>\n",
       "      <td>30</td>\n",
       "      <td>Pass</td>\n",
       "      <td>969</td>\n",
       "      <td>Birmingham City WFC</td>\n",
       "      <td>9</td>\n",
       "      <td>From Kick Off</td>\n",
       "      <td>969</td>\n",
       "      <td>Birmingham City WFC</td>\n",
       "      <td>2275050</td>\n",
       "      <td>...</td>\n",
       "      <td>65.0</td>\n",
       "      <td>Kick Off</td>\n",
       "      <td>40.0</td>\n",
       "      <td>Right Foot</td>\n",
       "      <td>53.9</td>\n",
       "      <td>39.6</td>\n",
       "      <td>61.0</td>\n",
       "      <td>40.1</td>\n",
       "      <td>11</td>\n",
       "      <td>Miscontrol</td>\n",
       "    </tr>\n",
       "    <tr>\n",
       "      <th>1</th>\n",
       "      <td>8</td>\n",
       "      <td>30</td>\n",
       "      <td>Pass</td>\n",
       "      <td>969</td>\n",
       "      <td>Birmingham City WFC</td>\n",
       "      <td>9</td>\n",
       "      <td>From Kick Off</td>\n",
       "      <td>969</td>\n",
       "      <td>Birmingham City WFC</td>\n",
       "      <td>2275050</td>\n",
       "      <td>...</td>\n",
       "      <td>NaN</td>\n",
       "      <td>NaN</td>\n",
       "      <td>40.0</td>\n",
       "      <td>Right Foot</td>\n",
       "      <td>118.4</td>\n",
       "      <td>72.9</td>\n",
       "      <td>52.8</td>\n",
       "      <td>42.7</td>\n",
       "      <td>11</td>\n",
       "      <td>Miscontrol</td>\n",
       "    </tr>\n",
       "    <tr>\n",
       "      <th>2</th>\n",
       "      <td>12</td>\n",
       "      <td>30</td>\n",
       "      <td>Pass</td>\n",
       "      <td>974</td>\n",
       "      <td>Reading WFC</td>\n",
       "      <td>7</td>\n",
       "      <td>From Goal Kick</td>\n",
       "      <td>974</td>\n",
       "      <td>Reading WFC</td>\n",
       "      <td>2275050</td>\n",
       "      <td>...</td>\n",
       "      <td>63.0</td>\n",
       "      <td>Goal Kick</td>\n",
       "      <td>38.0</td>\n",
       "      <td>Left Foot</td>\n",
       "      <td>13.4</td>\n",
       "      <td>54.2</td>\n",
       "      <td>6.0</td>\n",
       "      <td>44.0</td>\n",
       "      <td>31</td>\n",
       "      <td>Duel</td>\n",
       "    </tr>\n",
       "    <tr>\n",
       "      <th>3</th>\n",
       "      <td>16</td>\n",
       "      <td>30</td>\n",
       "      <td>Pass</td>\n",
       "      <td>974</td>\n",
       "      <td>Reading WFC</td>\n",
       "      <td>7</td>\n",
       "      <td>From Goal Kick</td>\n",
       "      <td>974</td>\n",
       "      <td>Reading WFC</td>\n",
       "      <td>2275050</td>\n",
       "      <td>...</td>\n",
       "      <td>NaN</td>\n",
       "      <td>NaN</td>\n",
       "      <td>40.0</td>\n",
       "      <td>Right Foot</td>\n",
       "      <td>62.0</td>\n",
       "      <td>60.2</td>\n",
       "      <td>39.6</td>\n",
       "      <td>58.2</td>\n",
       "      <td>31</td>\n",
       "      <td>Duel</td>\n",
       "    </tr>\n",
       "    <tr>\n",
       "      <th>4</th>\n",
       "      <td>23</td>\n",
       "      <td>30</td>\n",
       "      <td>Pass</td>\n",
       "      <td>974</td>\n",
       "      <td>Reading WFC</td>\n",
       "      <td>7</td>\n",
       "      <td>From Goal Kick</td>\n",
       "      <td>969</td>\n",
       "      <td>Birmingham City WFC</td>\n",
       "      <td>2275050</td>\n",
       "      <td>...</td>\n",
       "      <td>NaN</td>\n",
       "      <td>NaN</td>\n",
       "      <td>38.0</td>\n",
       "      <td>Left Foot</td>\n",
       "      <td>69.9</td>\n",
       "      <td>13.3</td>\n",
       "      <td>35.8</td>\n",
       "      <td>9.9</td>\n",
       "      <td>31</td>\n",
       "      <td>Duel</td>\n",
       "    </tr>\n",
       "  </tbody>\n",
       "</table>\n",
       "<p>5 rows × 33 columns</p>\n",
       "</div>"
      ],
      "text/plain": [
       "   level_0  type_id type_name_x  possession_team_id possession_team_name  \\\n",
       "0        4       30        Pass                 969  Birmingham City WFC   \n",
       "1        8       30        Pass                 969  Birmingham City WFC   \n",
       "2       12       30        Pass                 974          Reading WFC   \n",
       "3       16       30        Pass                 974          Reading WFC   \n",
       "4       23       30        Pass                 974          Reading WFC   \n",
       "\n",
       "   play_pattern_id play_pattern_name  team_id            team_name  match_id  \\\n",
       "0                9     From Kick Off      969  Birmingham City WFC   2275050   \n",
       "1                9     From Kick Off      969  Birmingham City WFC   2275050   \n",
       "2                7    From Goal Kick      974          Reading WFC   2275050   \n",
       "3                7    From Goal Kick      974          Reading WFC   2275050   \n",
       "4                7    From Goal Kick      969  Birmingham City WFC   2275050   \n",
       "\n",
       "   ... pass_type_id  pass_type_name  pass_body_part_id pass_body_part_name  \\\n",
       "0  ...         65.0        Kick Off               40.0          Right Foot   \n",
       "1  ...          NaN             NaN               40.0          Right Foot   \n",
       "2  ...         63.0       Goal Kick               38.0           Left Foot   \n",
       "3  ...          NaN             NaN               40.0          Right Foot   \n",
       "4  ...          NaN             NaN               38.0           Left Foot   \n",
       "\n",
       "   pass_end_location_x  pass_end_location_y  location_x  location_y  idx  \\\n",
       "0                 53.9                 39.6        61.0        40.1   11   \n",
       "1                118.4                 72.9        52.8        42.7   11   \n",
       "2                 13.4                 54.2         6.0        44.0   31   \n",
       "3                 62.0                 60.2        39.6        58.2   31   \n",
       "4                 69.9                 13.3        35.8         9.9   31   \n",
       "\n",
       "   type_name_y  \n",
       "0   Miscontrol  \n",
       "1   Miscontrol  \n",
       "2         Duel  \n",
       "3         Duel  \n",
       "4         Duel  \n",
       "\n",
       "[5 rows x 33 columns]"
      ]
     },
     "execution_count": 26,
     "metadata": {},
     "output_type": "execute_result"
    }
   ],
   "source": [
    "df = pd.read_csv(\"../Data/WithLastEvent.csv\")\n",
    "df.head()"
   ]
  },
  {
   "cell_type": "code",
   "execution_count": 27,
   "id": "a8502720",
   "metadata": {},
   "outputs": [],
   "source": [
    "failure = [\n",
    "    \"Miscontrol\", \n",
    "    \"Dispossessed\", \n",
    "    \"Interception\",\n",
    "    \"Error\", \n",
    "    \"Own Goal For\", \n",
    "    \"Bad Behaviour\",\n",
    "    \"Pressure\",\n",
    "    \"Foul Committed\",\n",
    "    \"Dribble\",\n",
    "    \"Duel\",\n",
    "    \"Offside\",\n",
    "    \"Pass\"\n",
    "]\n",
    "\n",
    "success = [\n",
    "    \"Ball Receipt*\", \n",
    "    \"Carry\", \n",
    "    \"Shot\",\n",
    "    \"Foul Won\",\n",
    "    \"Goal Keeper\",\n",
    "    \"Block\",\n",
    "    \"Own Goal Against\",\n",
    "    \"Ball Recovery\"\n",
    "]\n",
    "\n",
    "neutral = [\n",
    "    \"50/50\",\n",
    "    \"Substitution\",\n",
    "    \"Player Off\",\n",
    "    \"Player On\",\n",
    "    \"Injury Stoppage\",\n",
    "    \"Camera On\",\n",
    "    \"Shield\",\n",
    "    \"Referee Ball-Drop\",\n",
    "    \"Tactical Shift\",\n",
    "    \"Camera off\",\n",
    "    \"Clearance\",\n",
    "    \"Half Start\",\n",
    "    \"Substitution\"\n",
    "]"
   ]
  },
  {
   "cell_type": "code",
   "execution_count": 28,
   "id": "ca4d9075-45bd-4903-969a-5286bd23372b",
   "metadata": {},
   "outputs": [],
   "source": [
    "# remove ID columns\n",
    "non_id = []\n",
    "for col in df.columns:\n",
    "    if (\"id\" not in col) and (col != \"idx\") and (col != \"level_0\"):\n",
    "        non_id.append(col)\n",
    "        \n",
    "        \n",
    "# Duel, \n",
    "failure = [\"Miscontrol\", \"Dispossessed\", \"Interception\", \"Error\", \"Own Goal For\", \"Bad Behaviour\"]\n",
    "failure = np.array(failure)\n",
    "        \n",
    "def convert_to_angle(angle):\n",
    "    \n",
    "    factor = 180 / math.pi\n",
    "    return angle * factor\n",
    "\n",
    "def isSuccess(event):\n",
    "    \n",
    "    if (event in failure):\n",
    "        return False\n",
    "    \n",
    "    return True\n",
    "def getType(event):\n",
    "    \n",
    "    if (event in failure):\n",
    "        return \"Failure\"\n",
    "    elif (event in success):\n",
    "        return \"Success\"\n",
    "    else:\n",
    "        return \"Neutral\""
   ]
  },
  {
   "cell_type": "code",
   "execution_count": 29,
   "id": "b364189a-5dcf-4da1-9b34-347781dee798",
   "metadata": {},
   "outputs": [
    {
     "data": {
      "text/html": [
       "<div>\n",
       "<style scoped>\n",
       "    .dataframe tbody tr th:only-of-type {\n",
       "        vertical-align: middle;\n",
       "    }\n",
       "\n",
       "    .dataframe tbody tr th {\n",
       "        vertical-align: top;\n",
       "    }\n",
       "\n",
       "    .dataframe thead th {\n",
       "        text-align: right;\n",
       "    }\n",
       "</style>\n",
       "<table border=\"1\" class=\"dataframe\">\n",
       "  <thead>\n",
       "    <tr style=\"text-align: right;\">\n",
       "      <th></th>\n",
       "      <th>type_name_x</th>\n",
       "      <th>possession_team_name</th>\n",
       "      <th>play_pattern_name</th>\n",
       "      <th>team_name</th>\n",
       "      <th>index</th>\n",
       "      <th>period</th>\n",
       "      <th>minute</th>\n",
       "      <th>second</th>\n",
       "      <th>possession</th>\n",
       "      <th>pass_length</th>\n",
       "      <th>pass_angle</th>\n",
       "      <th>pass_height_name</th>\n",
       "      <th>pass_end_location_x</th>\n",
       "      <th>pass_end_location_y</th>\n",
       "      <th>location_x</th>\n",
       "      <th>location_y</th>\n",
       "      <th>type_name_y</th>\n",
       "    </tr>\n",
       "  </thead>\n",
       "  <tbody>\n",
       "    <tr>\n",
       "      <th>0</th>\n",
       "      <td>Pass</td>\n",
       "      <td>Birmingham City WFC</td>\n",
       "      <td>From Kick Off</td>\n",
       "      <td>Birmingham City WFC</td>\n",
       "      <td>5</td>\n",
       "      <td>1</td>\n",
       "      <td>0</td>\n",
       "      <td>0</td>\n",
       "      <td>2</td>\n",
       "      <td>7.117584</td>\n",
       "      <td>-175.971737</td>\n",
       "      <td>Ground Pass</td>\n",
       "      <td>53.9</td>\n",
       "      <td>39.6</td>\n",
       "      <td>61.0</td>\n",
       "      <td>40.1</td>\n",
       "      <td>Failure</td>\n",
       "    </tr>\n",
       "    <tr>\n",
       "      <th>1</th>\n",
       "      <td>Pass</td>\n",
       "      <td>Birmingham City WFC</td>\n",
       "      <td>From Kick Off</td>\n",
       "      <td>Birmingham City WFC</td>\n",
       "      <td>9</td>\n",
       "      <td>1</td>\n",
       "      <td>0</td>\n",
       "      <td>2</td>\n",
       "      <td>2</td>\n",
       "      <td>72.217730</td>\n",
       "      <td>24.719728</td>\n",
       "      <td>High Pass</td>\n",
       "      <td>118.4</td>\n",
       "      <td>72.9</td>\n",
       "      <td>52.8</td>\n",
       "      <td>42.7</td>\n",
       "      <td>Failure</td>\n",
       "    </tr>\n",
       "    <tr>\n",
       "      <th>2</th>\n",
       "      <td>Pass</td>\n",
       "      <td>Reading WFC</td>\n",
       "      <td>From Goal Kick</td>\n",
       "      <td>Reading WFC</td>\n",
       "      <td>13</td>\n",
       "      <td>1</td>\n",
       "      <td>1</td>\n",
       "      <td>0</td>\n",
       "      <td>3</td>\n",
       "      <td>12.601587</td>\n",
       "      <td>54.039483</td>\n",
       "      <td>Ground Pass</td>\n",
       "      <td>13.4</td>\n",
       "      <td>54.2</td>\n",
       "      <td>6.0</td>\n",
       "      <td>44.0</td>\n",
       "      <td>Neutral</td>\n",
       "    </tr>\n",
       "    <tr>\n",
       "      <th>3</th>\n",
       "      <td>Pass</td>\n",
       "      <td>Reading WFC</td>\n",
       "      <td>From Goal Kick</td>\n",
       "      <td>Reading WFC</td>\n",
       "      <td>17</td>\n",
       "      <td>1</td>\n",
       "      <td>1</td>\n",
       "      <td>7</td>\n",
       "      <td>3</td>\n",
       "      <td>22.489109</td>\n",
       "      <td>5.102165</td>\n",
       "      <td>Ground Pass</td>\n",
       "      <td>62.0</td>\n",
       "      <td>60.2</td>\n",
       "      <td>39.6</td>\n",
       "      <td>58.2</td>\n",
       "      <td>Neutral</td>\n",
       "    </tr>\n",
       "    <tr>\n",
       "      <th>4</th>\n",
       "      <td>Pass</td>\n",
       "      <td>Reading WFC</td>\n",
       "      <td>From Goal Kick</td>\n",
       "      <td>Birmingham City WFC</td>\n",
       "      <td>24</td>\n",
       "      <td>1</td>\n",
       "      <td>1</td>\n",
       "      <td>11</td>\n",
       "      <td>3</td>\n",
       "      <td>34.269080</td>\n",
       "      <td>5.693957</td>\n",
       "      <td>High Pass</td>\n",
       "      <td>69.9</td>\n",
       "      <td>13.3</td>\n",
       "      <td>35.8</td>\n",
       "      <td>9.9</td>\n",
       "      <td>Neutral</td>\n",
       "    </tr>\n",
       "  </tbody>\n",
       "</table>\n",
       "</div>"
      ],
      "text/plain": [
       "  type_name_x possession_team_name play_pattern_name            team_name  \\\n",
       "0        Pass  Birmingham City WFC     From Kick Off  Birmingham City WFC   \n",
       "1        Pass  Birmingham City WFC     From Kick Off  Birmingham City WFC   \n",
       "2        Pass          Reading WFC    From Goal Kick          Reading WFC   \n",
       "3        Pass          Reading WFC    From Goal Kick          Reading WFC   \n",
       "4        Pass          Reading WFC    From Goal Kick  Birmingham City WFC   \n",
       "\n",
       "   index  period  minute  second  possession  pass_length  pass_angle  \\\n",
       "0      5       1       0       0           2     7.117584 -175.971737   \n",
       "1      9       1       0       2           2    72.217730   24.719728   \n",
       "2     13       1       1       0           3    12.601587   54.039483   \n",
       "3     17       1       1       7           3    22.489109    5.102165   \n",
       "4     24       1       1      11           3    34.269080    5.693957   \n",
       "\n",
       "  pass_height_name  pass_end_location_x  pass_end_location_y  location_x  \\\n",
       "0      Ground Pass                 53.9                 39.6        61.0   \n",
       "1        High Pass                118.4                 72.9        52.8   \n",
       "2      Ground Pass                 13.4                 54.2         6.0   \n",
       "3      Ground Pass                 62.0                 60.2        39.6   \n",
       "4        High Pass                 69.9                 13.3        35.8   \n",
       "\n",
       "   location_y type_name_y  \n",
       "0        40.1     Failure  \n",
       "1        42.7     Failure  \n",
       "2        44.0     Neutral  \n",
       "3        58.2     Neutral  \n",
       "4         9.9     Neutral  "
      ]
     },
     "execution_count": 29,
     "metadata": {},
     "output_type": "execute_result"
    }
   ],
   "source": [
    "df = df[non_id]\n",
    "df[\"pass_angle\"] = df[\"pass_angle\"].apply(convert_to_angle)\n",
    "df[\"type_name_y\"] = df[\"type_name_y\"].apply(getType)\n",
    "df = df.drop(columns = [\"pass_recipient_name\", \"pass_type_name\", \"pass_body_part_name\", \"timestamp\"])\n",
    "\n",
    "df.head()"
   ]
  },
  {
   "cell_type": "code",
   "execution_count": 30,
   "id": "33c773e2",
   "metadata": {},
   "outputs": [
    {
     "name": "stdout",
     "output_type": "stream",
     "text": [
      "There are 17 features and 1098083 observations.\n"
     ]
    }
   ],
   "source": [
    "print(\"There are \" + str(df.shape[1]) + \" features and \" + str(df.shape[0]) + \" observations.\")\n"
   ]
  },
  {
   "cell_type": "code",
   "execution_count": 31,
   "id": "0606dfb8",
   "metadata": {},
   "outputs": [
    {
     "data": {
      "text/plain": [
       "Success    720061\n",
       "Neutral    308332\n",
       "Failure     69690\n",
       "Name: type_name_y, dtype: int64"
      ]
     },
     "execution_count": 31,
     "metadata": {},
     "output_type": "execute_result"
    }
   ],
   "source": [
    "df[\"type_name_y\"].value_counts()"
   ]
  },
  {
   "cell_type": "code",
   "execution_count": 32,
   "id": "fd565ced-5d5d-4365-a922-bf7f120a797e",
   "metadata": {},
   "outputs": [
    {
     "name": "stdout",
     "output_type": "stream",
     "text": [
      "(768658, 16) , (329425, 16)\n"
     ]
    }
   ],
   "source": [
    "x = df.drop(columns = [\"type_name_y\"])\n",
    "y = df[\"type_name_y\"]\n",
    "\n",
    "x_train, x_test, y_train, y_test = train_test_split(x, y, test_size = 0.3)\n",
    "print(x_train.shape, \",\", x_test.shape)"
   ]
  },
  {
   "cell_type": "code",
   "execution_count": 33,
   "id": "ffe7b6ff-e562-4a74-a620-f843598d847a",
   "metadata": {},
   "outputs": [],
   "source": [
    "categorical_columns = x.dtypes[x.dtypes == \"object\"].index.tolist()\n",
    "numerical_columns = x.dtypes[x.dtypes != \"object\"].index.tolist()"
   ]
  },
  {
   "cell_type": "code",
   "execution_count": 34,
   "id": "10044872-b685-4a01-9bb3-69e69de49a2d",
   "metadata": {},
   "outputs": [],
   "source": [
    "num_pl = StandardScaler()\n",
    "cat_pl = OneHotEncoder()\n",
    "\n",
    "col_tr = ColumnTransformer([(\"categorical\", cat_pl, categorical_columns),\n",
    "                            (\"numerical\", num_pl, numerical_columns)])\n",
    "\n",
    "x_train_tr = col_tr.fit_transform(x_train)\n",
    "x_test_tr = col_tr.fit_transform(x_test)"
   ]
  },
  {
   "cell_type": "code",
   "execution_count": 35,
   "id": "ecbb0d47-dcd1-4af6-91e8-d70a7dfec9c2",
   "metadata": {},
   "outputs": [],
   "source": [
    "model = DecisionTreeClassifier()\n",
    "model = model.fit(x_train_tr, y_train)"
   ]
  },
  {
   "cell_type": "code",
   "execution_count": 36,
   "id": "6fa97504-f642-4bf3-b2ee-b6769b89d8c4",
   "metadata": {},
   "outputs": [
    {
     "data": {
      "text/plain": [
       "0.6895651514001669"
      ]
     },
     "execution_count": 36,
     "metadata": {},
     "output_type": "execute_result"
    }
   ],
   "source": [
    "preds = model.predict(x_test_tr)\n",
    "bool_arr = (preds == y_test)\n",
    "bool_arr.mean()"
   ]
  },
  {
   "cell_type": "code",
   "execution_count": 37,
   "id": "737e76d0-6e78-4894-b4c9-8dc3987921e8",
   "metadata": {
    "scrolled": true
   },
   "outputs": [
    {
     "ename": "ValueError",
     "evalue": "Target is multiclass but average='binary'. Please choose another average setting, one of [None, 'micro', 'macro', 'weighted'].",
     "output_type": "error",
     "traceback": [
      "\u001b[0;31m---------------------------------------------------------------------------\u001b[0m",
      "\u001b[0;31mValueError\u001b[0m                                Traceback (most recent call last)",
      "\u001b[0;32m/var/folders/1n/tw48pl554sxfylsm32q065cr0000gn/T/ipykernel_75421/4290514554.py\u001b[0m in \u001b[0;36m<module>\u001b[0;34m\u001b[0m\n\u001b[0;32m----> 1\u001b[0;31m \u001b[0mf1\u001b[0m \u001b[0;34m=\u001b[0m \u001b[0mf1_score\u001b[0m\u001b[0;34m(\u001b[0m\u001b[0my_test\u001b[0m\u001b[0;34m,\u001b[0m \u001b[0mpreds\u001b[0m\u001b[0;34m)\u001b[0m\u001b[0;31m#, average = 'micro')\u001b[0m\u001b[0;34m\u001b[0m\u001b[0;34m\u001b[0m\u001b[0m\n\u001b[0m\u001b[1;32m      2\u001b[0m \u001b[0mf1\u001b[0m\u001b[0;34m\u001b[0m\u001b[0;34m\u001b[0m\u001b[0m\n",
      "\u001b[0;32m~/opt/anaconda3/lib/python3.8/site-packages/sklearn/metrics/_classification.py\u001b[0m in \u001b[0;36mf1_score\u001b[0;34m(y_true, y_pred, labels, pos_label, average, sample_weight, zero_division)\u001b[0m\n\u001b[1;32m   1121\u001b[0m     \u001b[0mmodified\u001b[0m \u001b[0;32mwith\u001b[0m\u001b[0;31m \u001b[0m\u001b[0;31m`\u001b[0m\u001b[0;31m`\u001b[0m\u001b[0mzero_division\u001b[0m\u001b[0;31m`\u001b[0m\u001b[0;31m`\u001b[0m\u001b[0;34m.\u001b[0m\u001b[0;34m\u001b[0m\u001b[0;34m\u001b[0m\u001b[0m\n\u001b[1;32m   1122\u001b[0m     \"\"\"\n\u001b[0;32m-> 1123\u001b[0;31m     return fbeta_score(\n\u001b[0m\u001b[1;32m   1124\u001b[0m         \u001b[0my_true\u001b[0m\u001b[0;34m,\u001b[0m\u001b[0;34m\u001b[0m\u001b[0;34m\u001b[0m\u001b[0m\n\u001b[1;32m   1125\u001b[0m         \u001b[0my_pred\u001b[0m\u001b[0;34m,\u001b[0m\u001b[0;34m\u001b[0m\u001b[0;34m\u001b[0m\u001b[0m\n",
      "\u001b[0;32m~/opt/anaconda3/lib/python3.8/site-packages/sklearn/metrics/_classification.py\u001b[0m in \u001b[0;36mfbeta_score\u001b[0;34m(y_true, y_pred, beta, labels, pos_label, average, sample_weight, zero_division)\u001b[0m\n\u001b[1;32m   1259\u001b[0m     \"\"\"\n\u001b[1;32m   1260\u001b[0m \u001b[0;34m\u001b[0m\u001b[0m\n\u001b[0;32m-> 1261\u001b[0;31m     _, _, f, _ = precision_recall_fscore_support(\n\u001b[0m\u001b[1;32m   1262\u001b[0m         \u001b[0my_true\u001b[0m\u001b[0;34m,\u001b[0m\u001b[0;34m\u001b[0m\u001b[0;34m\u001b[0m\u001b[0m\n\u001b[1;32m   1263\u001b[0m         \u001b[0my_pred\u001b[0m\u001b[0;34m,\u001b[0m\u001b[0;34m\u001b[0m\u001b[0;34m\u001b[0m\u001b[0m\n",
      "\u001b[0;32m~/opt/anaconda3/lib/python3.8/site-packages/sklearn/metrics/_classification.py\u001b[0m in \u001b[0;36mprecision_recall_fscore_support\u001b[0;34m(y_true, y_pred, beta, labels, pos_label, average, warn_for, sample_weight, zero_division)\u001b[0m\n\u001b[1;32m   1542\u001b[0m     \u001b[0;32mif\u001b[0m \u001b[0mbeta\u001b[0m \u001b[0;34m<\u001b[0m \u001b[0;36m0\u001b[0m\u001b[0;34m:\u001b[0m\u001b[0;34m\u001b[0m\u001b[0;34m\u001b[0m\u001b[0m\n\u001b[1;32m   1543\u001b[0m         \u001b[0;32mraise\u001b[0m \u001b[0mValueError\u001b[0m\u001b[0;34m(\u001b[0m\u001b[0;34m\"beta should be >=0 in the F-beta score\"\u001b[0m\u001b[0;34m)\u001b[0m\u001b[0;34m\u001b[0m\u001b[0;34m\u001b[0m\u001b[0m\n\u001b[0;32m-> 1544\u001b[0;31m     \u001b[0mlabels\u001b[0m \u001b[0;34m=\u001b[0m \u001b[0m_check_set_wise_labels\u001b[0m\u001b[0;34m(\u001b[0m\u001b[0my_true\u001b[0m\u001b[0;34m,\u001b[0m \u001b[0my_pred\u001b[0m\u001b[0;34m,\u001b[0m \u001b[0maverage\u001b[0m\u001b[0;34m,\u001b[0m \u001b[0mlabels\u001b[0m\u001b[0;34m,\u001b[0m \u001b[0mpos_label\u001b[0m\u001b[0;34m)\u001b[0m\u001b[0;34m\u001b[0m\u001b[0;34m\u001b[0m\u001b[0m\n\u001b[0m\u001b[1;32m   1545\u001b[0m \u001b[0;34m\u001b[0m\u001b[0m\n\u001b[1;32m   1546\u001b[0m     \u001b[0;31m# Calculate tp_sum, pred_sum, true_sum ###\u001b[0m\u001b[0;34m\u001b[0m\u001b[0;34m\u001b[0m\u001b[0;34m\u001b[0m\u001b[0m\n",
      "\u001b[0;32m~/opt/anaconda3/lib/python3.8/site-packages/sklearn/metrics/_classification.py\u001b[0m in \u001b[0;36m_check_set_wise_labels\u001b[0;34m(y_true, y_pred, average, labels, pos_label)\u001b[0m\n\u001b[1;32m   1363\u001b[0m             \u001b[0;32mif\u001b[0m \u001b[0my_type\u001b[0m \u001b[0;34m==\u001b[0m \u001b[0;34m\"multiclass\"\u001b[0m\u001b[0;34m:\u001b[0m\u001b[0;34m\u001b[0m\u001b[0;34m\u001b[0m\u001b[0m\n\u001b[1;32m   1364\u001b[0m                 \u001b[0maverage_options\u001b[0m\u001b[0;34m.\u001b[0m\u001b[0mremove\u001b[0m\u001b[0;34m(\u001b[0m\u001b[0;34m\"samples\"\u001b[0m\u001b[0;34m)\u001b[0m\u001b[0;34m\u001b[0m\u001b[0;34m\u001b[0m\u001b[0m\n\u001b[0;32m-> 1365\u001b[0;31m             raise ValueError(\n\u001b[0m\u001b[1;32m   1366\u001b[0m                 \u001b[0;34m\"Target is %s but average='binary'. Please \"\u001b[0m\u001b[0;34m\u001b[0m\u001b[0;34m\u001b[0m\u001b[0m\n\u001b[1;32m   1367\u001b[0m                 \u001b[0;34m\"choose another average setting, one of %r.\"\u001b[0m \u001b[0;34m%\u001b[0m \u001b[0;34m(\u001b[0m\u001b[0my_type\u001b[0m\u001b[0;34m,\u001b[0m \u001b[0maverage_options\u001b[0m\u001b[0;34m)\u001b[0m\u001b[0;34m\u001b[0m\u001b[0;34m\u001b[0m\u001b[0m\n",
      "\u001b[0;31mValueError\u001b[0m: Target is multiclass but average='binary'. Please choose another average setting, one of [None, 'micro', 'macro', 'weighted']."
     ]
    }
   ],
   "source": [
    "f1 = f1_score(y_test, preds)#, average = 'micro')\n",
    "f1"
   ]
  },
  {
   "cell_type": "code",
   "execution_count": 38,
   "id": "af345fed",
   "metadata": {},
   "outputs": [
    {
     "data": {
      "text/plain": [
       "array(['Failure', 'Success', 'Failure', ..., 'Failure', 'Success',\n",
       "       'Success'], dtype=object)"
      ]
     },
     "execution_count": 38,
     "metadata": {},
     "output_type": "execute_result"
    }
   ],
   "source": [
    "preds"
   ]
  },
  {
   "cell_type": "code",
   "execution_count": 38,
   "id": "92b17417",
   "metadata": {
    "scrolled": true
   },
   "outputs": [
    {
     "data": {
      "text/html": [
       "<div>\n",
       "<style scoped>\n",
       "    .dataframe tbody tr th:only-of-type {\n",
       "        vertical-align: middle;\n",
       "    }\n",
       "\n",
       "    .dataframe tbody tr th {\n",
       "        vertical-align: top;\n",
       "    }\n",
       "\n",
       "    .dataframe thead th {\n",
       "        text-align: right;\n",
       "    }\n",
       "</style>\n",
       "<table border=\"1\" class=\"dataframe\">\n",
       "  <thead>\n",
       "    <tr style=\"text-align: right;\">\n",
       "      <th></th>\n",
       "      <th>Actual</th>\n",
       "      <th>Predict</th>\n",
       "      <th>Success</th>\n",
       "    </tr>\n",
       "  </thead>\n",
       "  <tbody>\n",
       "    <tr>\n",
       "      <th>420775</th>\n",
       "      <td>Success</td>\n",
       "      <td>Success</td>\n",
       "      <td>True</td>\n",
       "    </tr>\n",
       "    <tr>\n",
       "      <th>737451</th>\n",
       "      <td>Neutral</td>\n",
       "      <td>Neutral</td>\n",
       "      <td>True</td>\n",
       "    </tr>\n",
       "    <tr>\n",
       "      <th>930777</th>\n",
       "      <td>Neutral</td>\n",
       "      <td>Success</td>\n",
       "      <td>False</td>\n",
       "    </tr>\n",
       "    <tr>\n",
       "      <th>1073556</th>\n",
       "      <td>Success</td>\n",
       "      <td>Success</td>\n",
       "      <td>True</td>\n",
       "    </tr>\n",
       "    <tr>\n",
       "      <th>187711</th>\n",
       "      <td>Success</td>\n",
       "      <td>Neutral</td>\n",
       "      <td>False</td>\n",
       "    </tr>\n",
       "  </tbody>\n",
       "</table>\n",
       "</div>"
      ],
      "text/plain": [
       "          Actual  Predict  Success\n",
       "420775   Success  Success     True\n",
       "737451   Neutral  Neutral     True\n",
       "930777   Neutral  Success    False\n",
       "1073556  Success  Success     True\n",
       "187711   Success  Neutral    False"
      ]
     },
     "execution_count": 38,
     "metadata": {},
     "output_type": "execute_result"
    }
   ],
   "source": [
    "from sklearn.calibration import calibration_curve, CalibrationDisplay\n",
    "from sklearn.metrics import det_curve, DetCurveDisplay\n",
    "\n",
    "from sklearn.metrics import (precision_recall_curve, PrecisionRecallDisplay)\n",
    "\n",
    "# y_prob = model.predict_proba(x_test_tr)[:, 1]\n",
    "# prob_true, prob_pred = calibration_curve(y_test, y_prob, n_bins=10)\n",
    "# disp = CalibrationDisplay(prob_true, prob_pred, y_prob)\n",
    "\n",
    "# disp.plot()\n",
    "\n",
    "# fpr, fnr, _ = det_curve(y_test, preds)\n",
    "# display = DetCurveDisplay(fpr=fpr, fnr=fnr, estimator_name=\"dtc\")\n",
    "# display.plot()\n",
    "\n",
    "# precision, recall, _ = precision_recall_curve(y_test, preds)\n",
    "# disp = PrecisionRecallDisplay(precision=precision, recall=recall)\n",
    "# disp.plot()\n",
    "\n",
    "# cm = confusion_matrix(y_test, preds)\n",
    "# cm\n",
    "\n",
    "compare = pd.DataFrame({\"Actual\":y_test, \"Predict\":preds})\n",
    "compare[\"Success\"] = compare[\"Actual\"] == compare[\"Predict\"]\n",
    "compare.head()\n",
    "\n",
    "# fp = compare.loc[(compare[\"Actual\"] == False) & (compare[\"Predict\"] == True)].shape[0]\n",
    "# tp = compare.loc[(compare[\"Actual\"] == True) & (compare[\"Predict\"] == True)].shape[0]\n",
    "\n",
    "# fn = compare.loc[(compare[\"Actual\"] == True) & (compare[\"Predict\"] == False)].shape[0]\n",
    "# tn = compare.loc[(compare[\"Actual\"] == False) & (compare[\"Predict\"] == False)].shape[0]\n",
    "\n",
    "# confusion_matrix = np.array([[tp, fn],[fp, tn]])\n",
    "# confusion_matrix = confusion_matrix / confusion_matrix.sum()"
   ]
  },
  {
   "cell_type": "code",
   "execution_count": 49,
   "id": "e5dd4c9e",
   "metadata": {},
   "outputs": [
    {
     "data": {
      "image/png": "[encoded data removed]",
      "text/plain": [
       "<Figure size 432x288 with 2 Axes>"
      ]
     },
     "metadata": {
      "needs_background": "light"
     },
     "output_type": "display_data"
    }
   ],
   "source": [
    "cm = pd.crosstab(compare[\"Actual\"], compare[\"Predict\"])\n",
    "cm = cm / cm.sum(axis = 1)\n",
    "\n",
    "import seaborn as sns\n",
    "ax = sns.heatmap(cm, annot = True, cmap = \"Blues\", fmt = \".2%\")"
   ]
  },
  {
   "cell_type": "code",
   "execution_count": 53,
   "id": "41d626e4",
   "metadata": {},
   "outputs": [
    {
     "data": {
      "image/png": "[encoded data removed]",
      "text/plain": [
       "<Figure size 432x288 with 2 Axes>"
      ]
     },
     "metadata": {
      "needs_background": "light"
     },
     "output_type": "display_data"
    }
   ],
   "source": [
    "import seaborn as sns\n",
    "\n",
    "ax = sns.heatmap(confusion_matrix, annot = True, cmap='Blues', fmt=\".1f\")\n",
    "\n",
    "ax.set_title('Seaborn Confusion Matrix with labels\\n\\n');\n",
    "ax.set_xlabel('\\nPredicted Values')\n",
    "ax.set_ylabel('Actual Values ');\n",
    "\n",
    "## Ticket labels - List must be in alphabetical order\n",
    "ax.xaxis.set_ticklabels(['False','True'])\n",
    "ax.yaxis.set_ticklabels(['False','True'])\n",
    "\n",
    "## Display the visualization of the Confusion Matrix.\n",
    "plt.show()"
   ]
  },
  {
   "cell_type": "code",
   "execution_count": 13,
   "id": "8a497531",
   "metadata": {},
   "outputs": [
    {
     "data": {
      "text/plain": [
       "{'ccp_alpha': 0.0,\n",
       " 'class_weight': None,\n",
       " 'criterion': 'gini',\n",
       " 'max_depth': None,\n",
       " 'max_features': None,\n",
       " 'max_leaf_nodes': None,\n",
       " 'min_impurity_decrease': 0.0,\n",
       " 'min_samples_leaf': 1,\n",
       " 'min_samples_split': 2,\n",
       " 'min_weight_fraction_leaf': 0.0,\n",
       " 'random_state': None,\n",
       " 'splitter': 'best'}"
      ]
     },
     "execution_count": 13,
     "metadata": {},
     "output_type": "execute_result"
    }
   ],
   "source": [
    "model.get_params()"
   ]
  },
  {
   "cell_type": "code",
   "execution_count": 15,
   "id": "ac8acc17",
   "metadata": {},
   "outputs": [],
   "source": [
    "params = {\n",
    "    'min_samples_split':[2,3,5,7],\n",
    "    'min_samples_leaf':[2,3,5,7],\n",
    "    'max_depth':[4,5,6,7,8]}\n",
    "\n",
    "optimizer = BayesSearchCV(DecisionTreeClassifier(), params)\n",
    "optimizer = optimizer.fit(x_train_tr, y_train)"
   ]
  },
  {
   "cell_type": "code",
   "execution_count": 20,
   "id": "4d8329ae",
   "metadata": {},
   "outputs": [
    {
     "data": {
      "text/plain": [
       "0.9363284510890187"
      ]
     },
     "execution_count": 20,
     "metadata": {},
     "output_type": "execute_result"
    }
   ],
   "source": [
    "opt_preds = optimizer.predict(x_test_tr)\n",
    "opt_acc = (opt_preds == y_test).mean()\n",
    "opt_acc"
   ]
  },
  {
   "cell_type": "code",
   "execution_count": 23,
   "id": "a161e079",
   "metadata": {},
   "outputs": [
    {
     "data": {
      "text/plain": [
       "{'cv': None,\n",
       " 'error_score': 'raise',\n",
       " 'estimator__ccp_alpha': 0.0,\n",
       " 'estimator__class_weight': None,\n",
       " 'estimator__criterion': 'gini',\n",
       " 'estimator__max_depth': None,\n",
       " 'estimator__max_features': None,\n",
       " 'estimator__max_leaf_nodes': None,\n",
       " 'estimator__min_impurity_decrease': 0.0,\n",
       " 'estimator__min_samples_leaf': 1,\n",
       " 'estimator__min_samples_split': 2,\n",
       " 'estimator__min_weight_fraction_leaf': 0.0,\n",
       " 'estimator__random_state': None,\n",
       " 'estimator__splitter': 'best',\n",
       " 'estimator': DecisionTreeClassifier(),\n",
       " 'fit_params': None,\n",
       " 'iid': 'deprecated',\n",
       " 'n_iter': 50,\n",
       " 'n_jobs': 1,\n",
       " 'n_points': 1,\n",
       " 'optimizer_kwargs': None,\n",
       " 'pre_dispatch': '2*n_jobs',\n",
       " 'random_state': None,\n",
       " 'refit': True,\n",
       " 'return_train_score': False,\n",
       " 'scoring': None,\n",
       " 'search_spaces': {'min_samples_split': [2, 3, 5, 7],\n",
       "  'min_samples_leaf': [2, 3, 5, 7],\n",
       "  'max_depth': [4, 5, 6, 7, 8]},\n",
       " 'verbose': 0}"
      ]
     },
     "execution_count": 23,
     "metadata": {},
     "output_type": "execute_result"
    }
   ],
   "source": [
    "optimizer.get_params()"
   ]
  },
  {
   "cell_type": "code",
   "execution_count": 70,
   "id": "6738fc2c",
   "metadata": {},
   "outputs": [
    {
     "data": {
      "text/html": [
       "<div>\n",
       "<style scoped>\n",
       "    .dataframe tbody tr th:only-of-type {\n",
       "        vertical-align: middle;\n",
       "    }\n",
       "\n",
       "    .dataframe tbody tr th {\n",
       "        vertical-align: top;\n",
       "    }\n",
       "\n",
       "    .dataframe thead th {\n",
       "        text-align: right;\n",
       "    }\n",
       "</style>\n",
       "<table border=\"1\" class=\"dataframe\">\n",
       "  <thead>\n",
       "    <tr style=\"text-align: right;\">\n",
       "      <th></th>\n",
       "      <th>Model</th>\n",
       "      <th>Accuracy</th>\n",
       "      <th>F1-Score</th>\n",
       "    </tr>\n",
       "  </thead>\n",
       "  <tbody>\n",
       "    <tr>\n",
       "      <th>0</th>\n",
       "      <td>Definition 1</td>\n",
       "      <td>0.97</td>\n",
       "      <td>0.95</td>\n",
       "    </tr>\n",
       "    <tr>\n",
       "      <th>1</th>\n",
       "      <td>Definition 2</td>\n",
       "      <td>0.91</td>\n",
       "      <td>0.95</td>\n",
       "    </tr>\n",
       "    <tr>\n",
       "      <th>2</th>\n",
       "      <td>Definition 3</td>\n",
       "      <td>0.70</td>\n",
       "      <td>0.67</td>\n",
       "    </tr>\n",
       "  </tbody>\n",
       "</table>\n",
       "</div>"
      ],
      "text/plain": [
       "          Model  Accuracy  F1-Score\n",
       "0  Definition 1      0.97      0.95\n",
       "1  Definition 2      0.91      0.95\n",
       "2  Definition 3      0.70      0.67"
      ]
     },
     "execution_count": 70,
     "metadata": {},
     "output_type": "execute_result"
    }
   ],
   "source": [
    "results = {\n",
    "    \"Model\": [\"Definition 1\", \"Definition 2\", \"Definition 3\"],\n",
    "    \"Accuracy\": [0.97, 0.91, 0.7],\n",
    "    \"F1-Score\": [0.95, 0.95, 0.67],\n",
    "}\n",
    "\n",
    "pd.DataFrame(results)"
   ]
  },
  {
   "cell_type": "code",
   "execution_count": 77,
   "id": "c4ba824f",
   "metadata": {},
   "outputs": [
    {
     "data": {
      "text/html": [
       "<div>\n",
       "<style scoped>\n",
       "    .dataframe tbody tr th:only-of-type {\n",
       "        vertical-align: middle;\n",
       "    }\n",
       "\n",
       "    .dataframe tbody tr th {\n",
       "        vertical-align: top;\n",
       "    }\n",
       "\n",
       "    .dataframe thead th {\n",
       "        text-align: right;\n",
       "    }\n",
       "</style>\n",
       "<table border=\"1\" class=\"dataframe\">\n",
       "  <thead>\n",
       "    <tr style=\"text-align: right;\">\n",
       "      <th></th>\n",
       "      <th>pass_end_location_x</th>\n",
       "      <th>pass_end_location_y</th>\n",
       "      <th>type_name_y</th>\n",
       "    </tr>\n",
       "  </thead>\n",
       "  <tbody>\n",
       "    <tr>\n",
       "      <th>0</th>\n",
       "      <td>53.9</td>\n",
       "      <td>39.6</td>\n",
       "      <td>Failure</td>\n",
       "    </tr>\n",
       "    <tr>\n",
       "      <th>1</th>\n",
       "      <td>118.4</td>\n",
       "      <td>72.9</td>\n",
       "      <td>Failure</td>\n",
       "    </tr>\n",
       "    <tr>\n",
       "      <th>2</th>\n",
       "      <td>13.4</td>\n",
       "      <td>54.2</td>\n",
       "      <td>Failure</td>\n",
       "    </tr>\n",
       "    <tr>\n",
       "      <th>3</th>\n",
       "      <td>62.0</td>\n",
       "      <td>60.2</td>\n",
       "      <td>Failure</td>\n",
       "    </tr>\n",
       "    <tr>\n",
       "      <th>4</th>\n",
       "      <td>69.9</td>\n",
       "      <td>13.3</td>\n",
       "      <td>Failure</td>\n",
       "    </tr>\n",
       "  </tbody>\n",
       "</table>\n",
       "</div>"
      ],
      "text/plain": [
       "   pass_end_location_x  pass_end_location_y type_name_y\n",
       "0                 53.9                 39.6     Failure\n",
       "1                118.4                 72.9     Failure\n",
       "2                 13.4                 54.2     Failure\n",
       "3                 62.0                 60.2     Failure\n",
       "4                 69.9                 13.3     Failure"
      ]
     },
     "execution_count": 77,
     "metadata": {},
     "output_type": "execute_result"
    }
   ],
   "source": [
    "loc = df[[\"pass_end_location_x\", \"pass_end_location_y\", \"type_name_y\"]]\n",
    "loc.head()"
   ]
  },
  {
   "cell_type": "code",
   "execution_count": 79,
   "id": "5db6d1a3",
   "metadata": {},
   "outputs": [
    {
     "data": {
      "text/plain": [
       "<matplotlib.collections.PathCollection at 0x7feebca6bb50>"
      ]
     },
     "execution_count": 79,
     "metadata": {},
     "output_type": "execute_result"
    },
    {
     "data": {
      "image/png": "[encoded data removed]",
      "text/plain": [
       "<Figure size 432x288 with 1 Axes>"
      ]
     },
     "metadata": {
      "needs_background": "light"
     },
     "output_type": "display_data"
    }
   ],
   "source": [
    "plt.scatter(data = loc, x = \"pass_end_location_x\", y = \"pass_end_location_y\", label = \"type_name_y\")"
   ]
  },
  {
   "cell_type": "code",
   "execution_count": 80,
   "id": "9e8bc981",
   "metadata": {},
   "outputs": [
    {
     "data": {
      "text/plain": [
       "Index(['type_name_x', 'possession_team_name', 'play_pattern_name', 'team_name',\n",
       "       'index', 'period', 'minute', 'second', 'possession', 'pass_length',\n",
       "       'pass_angle', 'pass_height_name', 'pass_end_location_x',\n",
       "       'pass_end_location_y', 'location_x', 'location_y', 'type_name_y'],\n",
       "      dtype='object')"
      ]
     },
     "execution_count": 80,
     "metadata": {},
     "output_type": "execute_result"
    }
   ],
   "source": [
    "df.columns"
   ]
  },
  {
   "cell_type": "code",
   "execution_count": 82,
   "id": "797a8685",
   "metadata": {},
   "outputs": [
    {
     "data": {
      "text/plain": [
       "<AxesSubplot:>"
      ]
     },
     "execution_count": 82,
     "metadata": {},
     "output_type": "execute_result"
    },
    {
     "data": {
      "image/png": "[encoded data removed]",
      "text/plain": [
       "<Figure size 432x288 with 1 Axes>"
      ]
     },
     "metadata": {
      "needs_background": "light"
     },
     "output_type": "display_data"
    }
   ],
   "source": [
    "df[df[\"type_name_y\"] == \"Failure\"][\"pass_height_name\"].hist()"
   ]
  },
  {
   "cell_type": "code",
   "execution_count": 83,
   "id": "46985d80",
   "metadata": {},
   "outputs": [
    {
     "data": {
      "text/plain": [
       "<AxesSubplot:>"
      ]
     },
     "execution_count": 83,
     "metadata": {},
     "output_type": "execute_result"
    },
    {
     "data": {
      "image/png": "[encoded data removed]",
      "text/plain": [
       "<Figure size 432x288 with 1 Axes>"
      ]
     },
     "metadata": {
      "needs_background": "light"
     },
     "output_type": "display_data"
    }
   ],
   "source": [
    "df[df[\"type_name_y\"] == \"Success\"][\"pass_height_name\"].hist()"
   ]
  },
  {
   "cell_type": "code",
   "execution_count": 84,
   "id": "cae72103",
   "metadata": {},
   "outputs": [
    {
     "data": {
      "text/plain": [
       "<AxesSubplot:>"
      ]
     },
     "execution_count": 84,
     "metadata": {},
     "output_type": "execute_result"
    },
    {
     "data": {
      "image/png": "[encoded data removed]",
      "text/plain": [
       "<Figure size 432x288 with 1 Axes>"
      ]
     },
     "metadata": {
      "needs_background": "light"
     },
     "output_type": "display_data"
    }
   ],
   "source": [
    "df[df[\"type_name_y\"] == \"Neutral\"][\"pass_height_name\"].hist()"
   ]
  },
  {
   "cell_type": "code",
   "execution_count": null,
   "id": "6ca4ff6c",
   "metadata": {},
   "outputs": [],
   "source": []
  }
 ],
 "metadata": {
  "kernelspec": {
   "display_name": "Python 3 (ipykernel)",
   "language": "python",
   "name": "python3"
  },
  "language_info": {
   "codemirror_mode": {
    "name": "ipython",
    "version": 3
   },
   "file_extension": ".py",
   "mimetype": "text/x-python",
   "name": "python",
   "nbconvert_exporter": "python",
   "pygments_lexer": "ipython3",
   "version": "3.8.2"
  }
 },
 "nbformat": 4,
 "nbformat_minor": 5
}

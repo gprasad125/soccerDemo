{
 "cells": [
  {
   "cell_type": "code",
   "execution_count": 58,
   "id": "ddfe3521-d289-4619-83ec-da69d9c57ff9",
   "metadata": {},
   "outputs": [],
   "source": [
    "import pandas as pd\n",
    "import numpy as np\n",
    "import matplotlib.pyplot as plt\n",
    "import math\n",
    "import warnings\n",
    "\n",
    "warnings.filterwarnings(\"ignore\")\n",
    "\n",
    "from sklearn.model_selection import train_test_split\n",
    "from sklearn.feature_selection import SelectKBest\n",
    "from sklearn.metrics import f1_score, confusion_matrix,  ConfusionMatrixDisplay\n",
    "\n",
    "from sklearn.pipeline import Pipeline\n",
    "from sklearn.preprocessing import OneHotEncoder, StandardScaler\n",
    "from sklearn.tree import DecisionTreeClassifier\n",
    "from sklearn.compose import ColumnTransformer"
   ]
  },
  {
   "cell_type": "code",
   "execution_count": 59,
   "id": "addf2dd7-a321-4003-b69d-5d349306f55a",
   "metadata": {},
   "outputs": [
    {
     "data": {
      "text/html": [
       "<div>\n",
       "<style scoped>\n",
       "    .dataframe tbody tr th:only-of-type {\n",
       "        vertical-align: middle;\n",
       "    }\n",
       "\n",
       "    .dataframe tbody tr th {\n",
       "        vertical-align: top;\n",
       "    }\n",
       "\n",
       "    .dataframe thead th {\n",
       "        text-align: right;\n",
       "    }\n",
       "</style>\n",
       "<table border=\"1\" class=\"dataframe\">\n",
       "  <thead>\n",
       "    <tr style=\"text-align: right;\">\n",
       "      <th></th>\n",
       "      <th>level_0</th>\n",
       "      <th>type_id</th>\n",
       "      <th>type_name_x</th>\n",
       "      <th>possession_team_id</th>\n",
       "      <th>possession_team_name</th>\n",
       "      <th>play_pattern_id</th>\n",
       "      <th>play_pattern_name</th>\n",
       "      <th>team_id</th>\n",
       "      <th>team_name</th>\n",
       "      <th>match_id</th>\n",
       "      <th>...</th>\n",
       "      <th>pass_type_id</th>\n",
       "      <th>pass_type_name</th>\n",
       "      <th>pass_body_part_id</th>\n",
       "      <th>pass_body_part_name</th>\n",
       "      <th>pass_end_location_x</th>\n",
       "      <th>pass_end_location_y</th>\n",
       "      <th>location_x</th>\n",
       "      <th>location_y</th>\n",
       "      <th>idx</th>\n",
       "      <th>type_name_y</th>\n",
       "    </tr>\n",
       "  </thead>\n",
       "  <tbody>\n",
       "    <tr>\n",
       "      <th>0</th>\n",
       "      <td>4</td>\n",
       "      <td>30</td>\n",
       "      <td>Pass</td>\n",
       "      <td>969</td>\n",
       "      <td>Birmingham City WFC</td>\n",
       "      <td>9</td>\n",
       "      <td>From Kick Off</td>\n",
       "      <td>969</td>\n",
       "      <td>Birmingham City WFC</td>\n",
       "      <td>2275050</td>\n",
       "      <td>...</td>\n",
       "      <td>65.0</td>\n",
       "      <td>Kick Off</td>\n",
       "      <td>40.0</td>\n",
       "      <td>Right Foot</td>\n",
       "      <td>53.9</td>\n",
       "      <td>39.6</td>\n",
       "      <td>61.0</td>\n",
       "      <td>40.1</td>\n",
       "      <td>11</td>\n",
       "      <td>Miscontrol</td>\n",
       "    </tr>\n",
       "    <tr>\n",
       "      <th>1</th>\n",
       "      <td>8</td>\n",
       "      <td>30</td>\n",
       "      <td>Pass</td>\n",
       "      <td>969</td>\n",
       "      <td>Birmingham City WFC</td>\n",
       "      <td>9</td>\n",
       "      <td>From Kick Off</td>\n",
       "      <td>969</td>\n",
       "      <td>Birmingham City WFC</td>\n",
       "      <td>2275050</td>\n",
       "      <td>...</td>\n",
       "      <td>NaN</td>\n",
       "      <td>NaN</td>\n",
       "      <td>40.0</td>\n",
       "      <td>Right Foot</td>\n",
       "      <td>118.4</td>\n",
       "      <td>72.9</td>\n",
       "      <td>52.8</td>\n",
       "      <td>42.7</td>\n",
       "      <td>11</td>\n",
       "      <td>Miscontrol</td>\n",
       "    </tr>\n",
       "    <tr>\n",
       "      <th>2</th>\n",
       "      <td>12</td>\n",
       "      <td>30</td>\n",
       "      <td>Pass</td>\n",
       "      <td>974</td>\n",
       "      <td>Reading WFC</td>\n",
       "      <td>7</td>\n",
       "      <td>From Goal Kick</td>\n",
       "      <td>974</td>\n",
       "      <td>Reading WFC</td>\n",
       "      <td>2275050</td>\n",
       "      <td>...</td>\n",
       "      <td>63.0</td>\n",
       "      <td>Goal Kick</td>\n",
       "      <td>38.0</td>\n",
       "      <td>Left Foot</td>\n",
       "      <td>13.4</td>\n",
       "      <td>54.2</td>\n",
       "      <td>6.0</td>\n",
       "      <td>44.0</td>\n",
       "      <td>31</td>\n",
       "      <td>Duel</td>\n",
       "    </tr>\n",
       "    <tr>\n",
       "      <th>3</th>\n",
       "      <td>16</td>\n",
       "      <td>30</td>\n",
       "      <td>Pass</td>\n",
       "      <td>974</td>\n",
       "      <td>Reading WFC</td>\n",
       "      <td>7</td>\n",
       "      <td>From Goal Kick</td>\n",
       "      <td>974</td>\n",
       "      <td>Reading WFC</td>\n",
       "      <td>2275050</td>\n",
       "      <td>...</td>\n",
       "      <td>NaN</td>\n",
       "      <td>NaN</td>\n",
       "      <td>40.0</td>\n",
       "      <td>Right Foot</td>\n",
       "      <td>62.0</td>\n",
       "      <td>60.2</td>\n",
       "      <td>39.6</td>\n",
       "      <td>58.2</td>\n",
       "      <td>31</td>\n",
       "      <td>Duel</td>\n",
       "    </tr>\n",
       "    <tr>\n",
       "      <th>4</th>\n",
       "      <td>23</td>\n",
       "      <td>30</td>\n",
       "      <td>Pass</td>\n",
       "      <td>974</td>\n",
       "      <td>Reading WFC</td>\n",
       "      <td>7</td>\n",
       "      <td>From Goal Kick</td>\n",
       "      <td>969</td>\n",
       "      <td>Birmingham City WFC</td>\n",
       "      <td>2275050</td>\n",
       "      <td>...</td>\n",
       "      <td>NaN</td>\n",
       "      <td>NaN</td>\n",
       "      <td>38.0</td>\n",
       "      <td>Left Foot</td>\n",
       "      <td>69.9</td>\n",
       "      <td>13.3</td>\n",
       "      <td>35.8</td>\n",
       "      <td>9.9</td>\n",
       "      <td>31</td>\n",
       "      <td>Duel</td>\n",
       "    </tr>\n",
       "  </tbody>\n",
       "</table>\n",
       "<p>5 rows × 33 columns</p>\n",
       "</div>"
      ],
      "text/plain": [
       "   level_0  type_id type_name_x  possession_team_id possession_team_name  \\\n",
       "0        4       30        Pass                 969  Birmingham City WFC   \n",
       "1        8       30        Pass                 969  Birmingham City WFC   \n",
       "2       12       30        Pass                 974          Reading WFC   \n",
       "3       16       30        Pass                 974          Reading WFC   \n",
       "4       23       30        Pass                 974          Reading WFC   \n",
       "\n",
       "   play_pattern_id play_pattern_name  team_id            team_name  match_id  \\\n",
       "0                9     From Kick Off      969  Birmingham City WFC   2275050   \n",
       "1                9     From Kick Off      969  Birmingham City WFC   2275050   \n",
       "2                7    From Goal Kick      974          Reading WFC   2275050   \n",
       "3                7    From Goal Kick      974          Reading WFC   2275050   \n",
       "4                7    From Goal Kick      969  Birmingham City WFC   2275050   \n",
       "\n",
       "   ... pass_type_id  pass_type_name  pass_body_part_id pass_body_part_name  \\\n",
       "0  ...         65.0        Kick Off               40.0          Right Foot   \n",
       "1  ...          NaN             NaN               40.0          Right Foot   \n",
       "2  ...         63.0       Goal Kick               38.0           Left Foot   \n",
       "3  ...          NaN             NaN               40.0          Right Foot   \n",
       "4  ...          NaN             NaN               38.0           Left Foot   \n",
       "\n",
       "   pass_end_location_x  pass_end_location_y  location_x  location_y  idx  \\\n",
       "0                 53.9                 39.6        61.0        40.1   11   \n",
       "1                118.4                 72.9        52.8        42.7   11   \n",
       "2                 13.4                 54.2         6.0        44.0   31   \n",
       "3                 62.0                 60.2        39.6        58.2   31   \n",
       "4                 69.9                 13.3        35.8         9.9   31   \n",
       "\n",
       "   type_name_y  \n",
       "0   Miscontrol  \n",
       "1   Miscontrol  \n",
       "2         Duel  \n",
       "3         Duel  \n",
       "4         Duel  \n",
       "\n",
       "[5 rows x 33 columns]"
      ]
     },
     "execution_count": 59,
     "metadata": {},
     "output_type": "execute_result"
    }
   ],
   "source": [
    "df = pd.read_csv(\"../Data/WithLastEvent.csv\")\n",
    "df.head()"
   ]
  },
  {
   "cell_type": "code",
   "execution_count": 60,
   "id": "ca4d9075-45bd-4903-969a-5286bd23372b",
   "metadata": {},
   "outputs": [],
   "source": [
    "# remove ID columns\n",
    "non_id = []\n",
    "for col in df.columns:\n",
    "    if (\"id\" not in col) and (col != \"idx\") and (col != \"level_0\"):\n",
    "        non_id.append(col)\n",
    "        \n",
    "failure = [\"Miscontrol\", \"Dispossessed\", \"Interception\", \"Error\", \"Own Goal For\", \"Bad Behaviour\"]\n",
    "failure = np.array(failure)\n",
    "        \n",
    "def convert_to_angle(angle):\n",
    "    \n",
    "    factor = 180 / math.pi\n",
    "    return angle * factor\n",
    "\n",
    "def isFailure(event):\n",
    "    \n",
    "    if event in failure:\n",
    "        return False\n",
    "    \n",
    "    return True"
   ]
  },
  {
   "cell_type": "code",
   "execution_count": 61,
   "id": "b364189a-5dcf-4da1-9b34-347781dee798",
   "metadata": {},
   "outputs": [
    {
     "data": {
      "text/html": [
       "<div>\n",
       "<style scoped>\n",
       "    .dataframe tbody tr th:only-of-type {\n",
       "        vertical-align: middle;\n",
       "    }\n",
       "\n",
       "    .dataframe tbody tr th {\n",
       "        vertical-align: top;\n",
       "    }\n",
       "\n",
       "    .dataframe thead th {\n",
       "        text-align: right;\n",
       "    }\n",
       "</style>\n",
       "<table border=\"1\" class=\"dataframe\">\n",
       "  <thead>\n",
       "    <tr style=\"text-align: right;\">\n",
       "      <th></th>\n",
       "      <th>type_name_x</th>\n",
       "      <th>possession_team_name</th>\n",
       "      <th>play_pattern_name</th>\n",
       "      <th>team_name</th>\n",
       "      <th>index</th>\n",
       "      <th>period</th>\n",
       "      <th>minute</th>\n",
       "      <th>second</th>\n",
       "      <th>possession</th>\n",
       "      <th>pass_length</th>\n",
       "      <th>pass_angle</th>\n",
       "      <th>pass_height_name</th>\n",
       "      <th>pass_end_location_x</th>\n",
       "      <th>pass_end_location_y</th>\n",
       "      <th>location_x</th>\n",
       "      <th>location_y</th>\n",
       "      <th>type_name_y</th>\n",
       "    </tr>\n",
       "  </thead>\n",
       "  <tbody>\n",
       "    <tr>\n",
       "      <th>0</th>\n",
       "      <td>Pass</td>\n",
       "      <td>Birmingham City WFC</td>\n",
       "      <td>From Kick Off</td>\n",
       "      <td>Birmingham City WFC</td>\n",
       "      <td>5</td>\n",
       "      <td>1</td>\n",
       "      <td>0</td>\n",
       "      <td>0</td>\n",
       "      <td>2</td>\n",
       "      <td>7.117584</td>\n",
       "      <td>-175.971737</td>\n",
       "      <td>Ground Pass</td>\n",
       "      <td>53.9</td>\n",
       "      <td>39.6</td>\n",
       "      <td>61.0</td>\n",
       "      <td>40.1</td>\n",
       "      <td>False</td>\n",
       "    </tr>\n",
       "    <tr>\n",
       "      <th>1</th>\n",
       "      <td>Pass</td>\n",
       "      <td>Birmingham City WFC</td>\n",
       "      <td>From Kick Off</td>\n",
       "      <td>Birmingham City WFC</td>\n",
       "      <td>9</td>\n",
       "      <td>1</td>\n",
       "      <td>0</td>\n",
       "      <td>2</td>\n",
       "      <td>2</td>\n",
       "      <td>72.217730</td>\n",
       "      <td>24.719728</td>\n",
       "      <td>High Pass</td>\n",
       "      <td>118.4</td>\n",
       "      <td>72.9</td>\n",
       "      <td>52.8</td>\n",
       "      <td>42.7</td>\n",
       "      <td>False</td>\n",
       "    </tr>\n",
       "    <tr>\n",
       "      <th>2</th>\n",
       "      <td>Pass</td>\n",
       "      <td>Reading WFC</td>\n",
       "      <td>From Goal Kick</td>\n",
       "      <td>Reading WFC</td>\n",
       "      <td>13</td>\n",
       "      <td>1</td>\n",
       "      <td>1</td>\n",
       "      <td>0</td>\n",
       "      <td>3</td>\n",
       "      <td>12.601587</td>\n",
       "      <td>54.039483</td>\n",
       "      <td>Ground Pass</td>\n",
       "      <td>13.4</td>\n",
       "      <td>54.2</td>\n",
       "      <td>6.0</td>\n",
       "      <td>44.0</td>\n",
       "      <td>True</td>\n",
       "    </tr>\n",
       "    <tr>\n",
       "      <th>3</th>\n",
       "      <td>Pass</td>\n",
       "      <td>Reading WFC</td>\n",
       "      <td>From Goal Kick</td>\n",
       "      <td>Reading WFC</td>\n",
       "      <td>17</td>\n",
       "      <td>1</td>\n",
       "      <td>1</td>\n",
       "      <td>7</td>\n",
       "      <td>3</td>\n",
       "      <td>22.489109</td>\n",
       "      <td>5.102165</td>\n",
       "      <td>Ground Pass</td>\n",
       "      <td>62.0</td>\n",
       "      <td>60.2</td>\n",
       "      <td>39.6</td>\n",
       "      <td>58.2</td>\n",
       "      <td>True</td>\n",
       "    </tr>\n",
       "    <tr>\n",
       "      <th>4</th>\n",
       "      <td>Pass</td>\n",
       "      <td>Reading WFC</td>\n",
       "      <td>From Goal Kick</td>\n",
       "      <td>Birmingham City WFC</td>\n",
       "      <td>24</td>\n",
       "      <td>1</td>\n",
       "      <td>1</td>\n",
       "      <td>11</td>\n",
       "      <td>3</td>\n",
       "      <td>34.269080</td>\n",
       "      <td>5.693957</td>\n",
       "      <td>High Pass</td>\n",
       "      <td>69.9</td>\n",
       "      <td>13.3</td>\n",
       "      <td>35.8</td>\n",
       "      <td>9.9</td>\n",
       "      <td>True</td>\n",
       "    </tr>\n",
       "  </tbody>\n",
       "</table>\n",
       "</div>"
      ],
      "text/plain": [
       "  type_name_x possession_team_name play_pattern_name            team_name  \\\n",
       "0        Pass  Birmingham City WFC     From Kick Off  Birmingham City WFC   \n",
       "1        Pass  Birmingham City WFC     From Kick Off  Birmingham City WFC   \n",
       "2        Pass          Reading WFC    From Goal Kick          Reading WFC   \n",
       "3        Pass          Reading WFC    From Goal Kick          Reading WFC   \n",
       "4        Pass          Reading WFC    From Goal Kick  Birmingham City WFC   \n",
       "\n",
       "   index  period  minute  second  possession  pass_length  pass_angle  \\\n",
       "0      5       1       0       0           2     7.117584 -175.971737   \n",
       "1      9       1       0       2           2    72.217730   24.719728   \n",
       "2     13       1       1       0           3    12.601587   54.039483   \n",
       "3     17       1       1       7           3    22.489109    5.102165   \n",
       "4     24       1       1      11           3    34.269080    5.693957   \n",
       "\n",
       "  pass_height_name  pass_end_location_x  pass_end_location_y  location_x  \\\n",
       "0      Ground Pass                 53.9                 39.6        61.0   \n",
       "1        High Pass                118.4                 72.9        52.8   \n",
       "2      Ground Pass                 13.4                 54.2         6.0   \n",
       "3      Ground Pass                 62.0                 60.2        39.6   \n",
       "4        High Pass                 69.9                 13.3        35.8   \n",
       "\n",
       "   location_y  type_name_y  \n",
       "0        40.1        False  \n",
       "1        42.7        False  \n",
       "2        44.0         True  \n",
       "3        58.2         True  \n",
       "4         9.9         True  "
      ]
     },
     "execution_count": 61,
     "metadata": {},
     "output_type": "execute_result"
    }
   ],
   "source": [
    "df = df[non_id]\n",
    "df[\"pass_angle\"] = df[\"pass_angle\"].apply(convert_to_angle)\n",
    "df[\"type_name_y\"] = df[\"type_name_y\"].apply(isFailure)\n",
    "df = df.drop(columns = [\"pass_recipient_name\", \"pass_type_name\", \"pass_body_part_name\", \"timestamp\"])\n",
    "\n",
    "df.head()"
   ]
  },
  {
   "cell_type": "code",
   "execution_count": 62,
   "id": "fd565ced-5d5d-4365-a922-bf7f120a797e",
   "metadata": {},
   "outputs": [
    {
     "name": "stdout",
     "output_type": "stream",
     "text": [
      "(768658, 16) , (329425, 16)\n"
     ]
    }
   ],
   "source": [
    "x = df.drop(columns = [\"type_name_y\"])\n",
    "y = df[\"type_name_y\"]\n",
    "\n",
    "x_train, x_test, y_train, y_test = train_test_split(x, y, test_size = 0.3)\n",
    "print(x_train.shape, \",\", x_test.shape)"
   ]
  },
  {
   "cell_type": "code",
   "execution_count": 63,
   "id": "ffe7b6ff-e562-4a74-a620-f843598d847a",
   "metadata": {},
   "outputs": [],
   "source": [
    "categorical_columns = x.dtypes[x.dtypes == \"object\"].index.tolist()\n",
    "numerical_columns = x.dtypes[x.dtypes != \"object\"].index.tolist()"
   ]
  },
  {
   "cell_type": "code",
   "execution_count": 64,
   "id": "10044872-b685-4a01-9bb3-69e69de49a2d",
   "metadata": {},
   "outputs": [],
   "source": [
    "num_pl = StandardScaler()\n",
    "cat_pl = OneHotEncoder()\n",
    "\n",
    "col_tr = ColumnTransformer([(\"categorical\", cat_pl, categorical_columns),\n",
    "                            (\"numerical\", num_pl, numerical_columns)])\n",
    "\n",
    "x_train_tr = col_tr.fit_transform(x_train)\n",
    "x_test_tr = col_tr.fit_transform(x_test)"
   ]
  },
  {
   "cell_type": "code",
   "execution_count": 65,
   "id": "ecbb0d47-dcd1-4af6-91e8-d70a7dfec9c2",
   "metadata": {},
   "outputs": [],
   "source": [
    "model = DecisionTreeClassifier()\n",
    "model = model.fit(x_train_tr, y_train)"
   ]
  },
  {
   "cell_type": "code",
   "execution_count": 66,
   "id": "6fa97504-f642-4bf3-b2ee-b6769b89d8c4",
   "metadata": {},
   "outputs": [
    {
     "data": {
      "text/plain": [
       "0.9079699476360324"
      ]
     },
     "execution_count": 66,
     "metadata": {},
     "output_type": "execute_result"
    }
   ],
   "source": [
    "preds = model.predict(x_test_tr)\n",
    "bool_arr = (preds == y_test)\n",
    "bool_arr.mean()"
   ]
  },
  {
   "cell_type": "code",
   "execution_count": 67,
   "id": "737e76d0-6e78-4894-b4c9-8dc3987921e8",
   "metadata": {},
   "outputs": [
    {
     "data": {
      "text/plain": [
       "0.9506990146958144"
      ]
     },
     "execution_count": 67,
     "metadata": {},
     "output_type": "execute_result"
    }
   ],
   "source": [
    "f1 = f1_score(y_test, preds)\n",
    "f1"
   ]
  },
  {
   "cell_type": "code",
   "execution_count": 69,
   "id": "41c5f23a",
   "metadata": {},
   "outputs": [
    {
     "data": {
      "image/png": "[encoded data removed]",
      "text/plain": [
       "<Figure size 432x288 with 2 Axes>"
      ]
     },
     "metadata": {
      "needs_background": "light"
     },
     "output_type": "display_data"
    }
   ],
   "source": [
    "matrix = confusion_matrix(y_test, preds)\n",
    "disp = ConfusionMatrixDisplay(confusion_matrix = matrix).plot()"
   ]
  },
  {
   "cell_type": "code",
   "execution_count": 72,
   "id": "2bfd01c4",
   "metadata": {},
   "outputs": [
    {
     "data": {
      "text/plain": [
       "0.9079699476360324"
      ]
     },
     "execution_count": 72,
     "metadata": {},
     "output_type": "execute_result"
    }
   ],
   "source": [
    "(6798 + 292310) / x_test.shape[0]"
   ]
  },
  {
   "cell_type": "code",
   "execution_count": 25,
   "id": "cb82b089",
   "metadata": {},
   "outputs": [],
   "source": [
    "feature_selector = SelectKBest().fit(x_train_tr, y_train)\n",
    "\n",
    "new_x_train = feature_selector.transform(x_train_tr)\n",
    "new_x_test = feature_selector.transform(x_test_tr)"
   ]
  },
  {
   "cell_type": "code",
   "execution_count": 26,
   "id": "87af4bb7",
   "metadata": {},
   "outputs": [
    {
     "data": {
      "text/plain": [
       "DecisionTreeClassifier()"
      ]
     },
     "execution_count": 26,
     "metadata": {},
     "output_type": "execute_result"
    }
   ],
   "source": [
    "new_model = DecisionTreeClassifier()\n",
    "new_model.fit(new_x_train, y_train)"
   ]
  },
  {
   "cell_type": "code",
   "execution_count": 29,
   "id": "75e6633a",
   "metadata": {},
   "outputs": [
    {
     "data": {
      "text/plain": [
       "0.8965045154435759"
      ]
     },
     "execution_count": 29,
     "metadata": {},
     "output_type": "execute_result"
    }
   ],
   "source": [
    "(new_model.predict(new_x_test) == y_test).mean()"
   ]
  },
  {
   "cell_type": "code",
   "execution_count": 30,
   "id": "91b28298",
   "metadata": {},
   "outputs": [
    {
     "data": {
      "text/plain": [
       "0.9444945510430675"
      ]
     },
     "execution_count": 30,
     "metadata": {},
     "output_type": "execute_result"
    }
   ],
   "source": [
    "f1_score(y_test, new_model.predict(new_x_test))"
   ]
  },
  {
   "cell_type": "code",
   "execution_count": null,
   "id": "26d7408d",
   "metadata": {},
   "outputs": [],
   "source": []
  }
 ],
 "metadata": {
  "kernelspec": {
   "display_name": "Python 3 (ipykernel)",
   "language": "python",
   "name": "python3"
  },
  "language_info": {
   "codemirror_mode": {
    "name": "ipython",
    "version": 3
   },
   "file_extension": ".py",
   "mimetype": "text/x-python",
   "name": "python",
   "nbconvert_exporter": "python",
   "pygments_lexer": "ipython3",
   "version": "3.8.2"
  }
 },
 "nbformat": 4,
 "nbformat_minor": 5
}

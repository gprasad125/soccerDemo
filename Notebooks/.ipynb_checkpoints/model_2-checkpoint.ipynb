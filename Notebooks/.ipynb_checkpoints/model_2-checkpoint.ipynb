{
 "cells": [
  {
   "cell_type": "code",
   "execution_count": 54,
   "id": "ddfe3521-d289-4619-83ec-da69d9c57ff9",
   "metadata": {},
   "outputs": [],
   "source": [
    "import pandas as pd\n",
    "import numpy as np\n",
    "import matplotlib.pyplot as plt\n",
    "import math\n",
    "import warnings\n",
    "\n",
    "warnings.filterwarnings(\"ignore\")\n",
    "\n",
    "from sklearn.model_selection import train_test_split, GridSearchCV\n",
    "from sklearn.feature_selection import SelectKBest\n",
    "from sklearn.metrics import f1_score, confusion_matrix,  ConfusionMatrixDisplay\n",
    "\n",
    "from sklearn.pipeline import Pipeline\n",
    "from sklearn.preprocessing import OneHotEncoder, StandardScaler\n",
    "from sklearn.tree import DecisionTreeClassifier\n",
    "from sklearn.compose import ColumnTransformer\n",
    "\n",
    "from skopt import BayesSearchCV"
   ]
  },
  {
   "cell_type": "code",
   "execution_count": 55,
   "id": "addf2dd7-a321-4003-b69d-5d349306f55a",
   "metadata": {},
   "outputs": [
    {
     "data": {
      "text/html": [
       "<div>\n",
       "<style scoped>\n",
       "    .dataframe tbody tr th:only-of-type {\n",
       "        vertical-align: middle;\n",
       "    }\n",
       "\n",
       "    .dataframe tbody tr th {\n",
       "        vertical-align: top;\n",
       "    }\n",
       "\n",
       "    .dataframe thead th {\n",
       "        text-align: right;\n",
       "    }\n",
       "</style>\n",
       "<table border=\"1\" class=\"dataframe\">\n",
       "  <thead>\n",
       "    <tr style=\"text-align: right;\">\n",
       "      <th></th>\n",
       "      <th>level_0</th>\n",
       "      <th>type_id</th>\n",
       "      <th>type_name_x</th>\n",
       "      <th>possession_team_id</th>\n",
       "      <th>possession_team_name</th>\n",
       "      <th>play_pattern_id</th>\n",
       "      <th>play_pattern_name</th>\n",
       "      <th>team_id</th>\n",
       "      <th>team_name</th>\n",
       "      <th>match_id</th>\n",
       "      <th>...</th>\n",
       "      <th>pass_type_id</th>\n",
       "      <th>pass_type_name</th>\n",
       "      <th>pass_body_part_id</th>\n",
       "      <th>pass_body_part_name</th>\n",
       "      <th>pass_end_location_x</th>\n",
       "      <th>pass_end_location_y</th>\n",
       "      <th>location_x</th>\n",
       "      <th>location_y</th>\n",
       "      <th>idx</th>\n",
       "      <th>type_name_y</th>\n",
       "    </tr>\n",
       "  </thead>\n",
       "  <tbody>\n",
       "    <tr>\n",
       "      <th>0</th>\n",
       "      <td>4</td>\n",
       "      <td>30</td>\n",
       "      <td>Pass</td>\n",
       "      <td>969</td>\n",
       "      <td>Birmingham City WFC</td>\n",
       "      <td>9</td>\n",
       "      <td>From Kick Off</td>\n",
       "      <td>969</td>\n",
       "      <td>Birmingham City WFC</td>\n",
       "      <td>2275050</td>\n",
       "      <td>...</td>\n",
       "      <td>65.0</td>\n",
       "      <td>Kick Off</td>\n",
       "      <td>40.0</td>\n",
       "      <td>Right Foot</td>\n",
       "      <td>53.9</td>\n",
       "      <td>39.6</td>\n",
       "      <td>61.0</td>\n",
       "      <td>40.1</td>\n",
       "      <td>11</td>\n",
       "      <td>Miscontrol</td>\n",
       "    </tr>\n",
       "    <tr>\n",
       "      <th>1</th>\n",
       "      <td>8</td>\n",
       "      <td>30</td>\n",
       "      <td>Pass</td>\n",
       "      <td>969</td>\n",
       "      <td>Birmingham City WFC</td>\n",
       "      <td>9</td>\n",
       "      <td>From Kick Off</td>\n",
       "      <td>969</td>\n",
       "      <td>Birmingham City WFC</td>\n",
       "      <td>2275050</td>\n",
       "      <td>...</td>\n",
       "      <td>NaN</td>\n",
       "      <td>NaN</td>\n",
       "      <td>40.0</td>\n",
       "      <td>Right Foot</td>\n",
       "      <td>118.4</td>\n",
       "      <td>72.9</td>\n",
       "      <td>52.8</td>\n",
       "      <td>42.7</td>\n",
       "      <td>11</td>\n",
       "      <td>Miscontrol</td>\n",
       "    </tr>\n",
       "    <tr>\n",
       "      <th>2</th>\n",
       "      <td>12</td>\n",
       "      <td>30</td>\n",
       "      <td>Pass</td>\n",
       "      <td>974</td>\n",
       "      <td>Reading WFC</td>\n",
       "      <td>7</td>\n",
       "      <td>From Goal Kick</td>\n",
       "      <td>974</td>\n",
       "      <td>Reading WFC</td>\n",
       "      <td>2275050</td>\n",
       "      <td>...</td>\n",
       "      <td>63.0</td>\n",
       "      <td>Goal Kick</td>\n",
       "      <td>38.0</td>\n",
       "      <td>Left Foot</td>\n",
       "      <td>13.4</td>\n",
       "      <td>54.2</td>\n",
       "      <td>6.0</td>\n",
       "      <td>44.0</td>\n",
       "      <td>31</td>\n",
       "      <td>Duel</td>\n",
       "    </tr>\n",
       "    <tr>\n",
       "      <th>3</th>\n",
       "      <td>16</td>\n",
       "      <td>30</td>\n",
       "      <td>Pass</td>\n",
       "      <td>974</td>\n",
       "      <td>Reading WFC</td>\n",
       "      <td>7</td>\n",
       "      <td>From Goal Kick</td>\n",
       "      <td>974</td>\n",
       "      <td>Reading WFC</td>\n",
       "      <td>2275050</td>\n",
       "      <td>...</td>\n",
       "      <td>NaN</td>\n",
       "      <td>NaN</td>\n",
       "      <td>40.0</td>\n",
       "      <td>Right Foot</td>\n",
       "      <td>62.0</td>\n",
       "      <td>60.2</td>\n",
       "      <td>39.6</td>\n",
       "      <td>58.2</td>\n",
       "      <td>31</td>\n",
       "      <td>Duel</td>\n",
       "    </tr>\n",
       "    <tr>\n",
       "      <th>4</th>\n",
       "      <td>23</td>\n",
       "      <td>30</td>\n",
       "      <td>Pass</td>\n",
       "      <td>974</td>\n",
       "      <td>Reading WFC</td>\n",
       "      <td>7</td>\n",
       "      <td>From Goal Kick</td>\n",
       "      <td>969</td>\n",
       "      <td>Birmingham City WFC</td>\n",
       "      <td>2275050</td>\n",
       "      <td>...</td>\n",
       "      <td>NaN</td>\n",
       "      <td>NaN</td>\n",
       "      <td>38.0</td>\n",
       "      <td>Left Foot</td>\n",
       "      <td>69.9</td>\n",
       "      <td>13.3</td>\n",
       "      <td>35.8</td>\n",
       "      <td>9.9</td>\n",
       "      <td>31</td>\n",
       "      <td>Duel</td>\n",
       "    </tr>\n",
       "  </tbody>\n",
       "</table>\n",
       "<p>5 rows × 33 columns</p>\n",
       "</div>"
      ],
      "text/plain": [
       "   level_0  type_id type_name_x  possession_team_id possession_team_name  \\\n",
       "0        4       30        Pass                 969  Birmingham City WFC   \n",
       "1        8       30        Pass                 969  Birmingham City WFC   \n",
       "2       12       30        Pass                 974          Reading WFC   \n",
       "3       16       30        Pass                 974          Reading WFC   \n",
       "4       23       30        Pass                 974          Reading WFC   \n",
       "\n",
       "   play_pattern_id play_pattern_name  team_id            team_name  match_id  \\\n",
       "0                9     From Kick Off      969  Birmingham City WFC   2275050   \n",
       "1                9     From Kick Off      969  Birmingham City WFC   2275050   \n",
       "2                7    From Goal Kick      974          Reading WFC   2275050   \n",
       "3                7    From Goal Kick      974          Reading WFC   2275050   \n",
       "4                7    From Goal Kick      969  Birmingham City WFC   2275050   \n",
       "\n",
       "   ... pass_type_id  pass_type_name  pass_body_part_id pass_body_part_name  \\\n",
       "0  ...         65.0        Kick Off               40.0          Right Foot   \n",
       "1  ...          NaN             NaN               40.0          Right Foot   \n",
       "2  ...         63.0       Goal Kick               38.0           Left Foot   \n",
       "3  ...          NaN             NaN               40.0          Right Foot   \n",
       "4  ...          NaN             NaN               38.0           Left Foot   \n",
       "\n",
       "   pass_end_location_x  pass_end_location_y  location_x  location_y  idx  \\\n",
       "0                 53.9                 39.6        61.0        40.1   11   \n",
       "1                118.4                 72.9        52.8        42.7   11   \n",
       "2                 13.4                 54.2         6.0        44.0   31   \n",
       "3                 62.0                 60.2        39.6        58.2   31   \n",
       "4                 69.9                 13.3        35.8         9.9   31   \n",
       "\n",
       "   type_name_y  \n",
       "0   Miscontrol  \n",
       "1   Miscontrol  \n",
       "2         Duel  \n",
       "3         Duel  \n",
       "4         Duel  \n",
       "\n",
       "[5 rows x 33 columns]"
      ]
     },
     "execution_count": 55,
     "metadata": {},
     "output_type": "execute_result"
    }
   ],
   "source": [
    "df = pd.read_csv(\"../Data/WithLastEvent.csv\")\n",
    "df.head()"
   ]
  },
  {
   "cell_type": "code",
   "execution_count": 56,
   "id": "a8502720",
   "metadata": {},
   "outputs": [],
   "source": [
    "failure = [\n",
    "    \"Miscontrol\", \n",
    "    \"Dispossessed\", \n",
    "    \"Interception\",\n",
    "    \"Error\", \n",
    "    \"Own Goal For\", \n",
    "    \"Bad Behaviour\",\n",
    "    \"Pressure\",\n",
    "    \"Foul Committed\",\n",
    "    \"Dribble\",\n",
    "    \"Duel\",\n",
    "    \"Offside\",\n",
    "    \"Pass\"\n",
    "]\n",
    "\n",
    "success = [\n",
    "    \"Ball Receipt*\", \n",
    "    \"Carry\", \n",
    "    \"Shot\",\n",
    "    \"Foul Won\",\n",
    "    \"Goal Keeper\",\n",
    "    \"Block\",\n",
    "    \"Own Goal Against\",\n",
    "    \"Ball Recovery\"\n",
    "]\n",
    "\n",
    "neutral = [\n",
    "    \"50/50\",\n",
    "    \"Substitution\",\n",
    "    \"Player Off\",\n",
    "    \"Player On\",\n",
    "    \"Injury Stoppage\",\n",
    "    \"Camera On\",\n",
    "    \"Shield\",\n",
    "    \"Referee Ball-Drop\",\n",
    "    \"Tactical Shift\",\n",
    "    \"Camera off\",\n",
    "    \"Clearance\",\n",
    "    \"Half Start\",\n",
    "    \"Substitution\"\n",
    "]"
   ]
  },
  {
   "cell_type": "code",
   "execution_count": 57,
   "id": "ca4d9075-45bd-4903-969a-5286bd23372b",
   "metadata": {},
   "outputs": [],
   "source": [
    "# remove ID columns\n",
    "non_id = []\n",
    "for col in df.columns:\n",
    "    if (\"id\" not in col) and (col != \"idx\") and (col != \"level_0\"):\n",
    "        non_id.append(col)\n",
    "        \n",
    "        \n",
    "# Duel, \n",
    "# failure = [\"Miscontrol\", \"Dispossessed\", \"Interception\", \"Error\", \"Own Goal For\", \"Bad Behaviour\"]\n",
    "# failure = np.array(failure)\n",
    "        \n",
    "def convert_to_angle(angle):\n",
    "    \n",
    "    factor = 180 / math.pi\n",
    "    return angle * factor\n",
    "\n",
    "def getType(event):\n",
    "    \n",
    "    if (event in failure):\n",
    "        return \"Failure\"\n",
    "    elif (event in success):\n",
    "        return \"Success\"\n",
    "    else:\n",
    "        return \"Neutral\""
   ]
  },
  {
   "cell_type": "code",
   "execution_count": 58,
   "id": "b364189a-5dcf-4da1-9b34-347781dee798",
   "metadata": {},
   "outputs": [
    {
     "data": {
      "text/html": [
       "<div>\n",
       "<style scoped>\n",
       "    .dataframe tbody tr th:only-of-type {\n",
       "        vertical-align: middle;\n",
       "    }\n",
       "\n",
       "    .dataframe tbody tr th {\n",
       "        vertical-align: top;\n",
       "    }\n",
       "\n",
       "    .dataframe thead th {\n",
       "        text-align: right;\n",
       "    }\n",
       "</style>\n",
       "<table border=\"1\" class=\"dataframe\">\n",
       "  <thead>\n",
       "    <tr style=\"text-align: right;\">\n",
       "      <th></th>\n",
       "      <th>type_name_x</th>\n",
       "      <th>possession_team_name</th>\n",
       "      <th>play_pattern_name</th>\n",
       "      <th>team_name</th>\n",
       "      <th>index</th>\n",
       "      <th>period</th>\n",
       "      <th>minute</th>\n",
       "      <th>second</th>\n",
       "      <th>possession</th>\n",
       "      <th>pass_length</th>\n",
       "      <th>pass_angle</th>\n",
       "      <th>pass_height_name</th>\n",
       "      <th>pass_end_location_x</th>\n",
       "      <th>pass_end_location_y</th>\n",
       "      <th>location_x</th>\n",
       "      <th>location_y</th>\n",
       "      <th>type_name_y</th>\n",
       "    </tr>\n",
       "  </thead>\n",
       "  <tbody>\n",
       "    <tr>\n",
       "      <th>0</th>\n",
       "      <td>Pass</td>\n",
       "      <td>Birmingham City WFC</td>\n",
       "      <td>From Kick Off</td>\n",
       "      <td>Birmingham City WFC</td>\n",
       "      <td>5</td>\n",
       "      <td>1</td>\n",
       "      <td>0</td>\n",
       "      <td>0</td>\n",
       "      <td>2</td>\n",
       "      <td>7.117584</td>\n",
       "      <td>-175.971737</td>\n",
       "      <td>Ground Pass</td>\n",
       "      <td>53.9</td>\n",
       "      <td>39.6</td>\n",
       "      <td>61.0</td>\n",
       "      <td>40.1</td>\n",
       "      <td>Failure</td>\n",
       "    </tr>\n",
       "    <tr>\n",
       "      <th>1</th>\n",
       "      <td>Pass</td>\n",
       "      <td>Birmingham City WFC</td>\n",
       "      <td>From Kick Off</td>\n",
       "      <td>Birmingham City WFC</td>\n",
       "      <td>9</td>\n",
       "      <td>1</td>\n",
       "      <td>0</td>\n",
       "      <td>2</td>\n",
       "      <td>2</td>\n",
       "      <td>72.217730</td>\n",
       "      <td>24.719728</td>\n",
       "      <td>High Pass</td>\n",
       "      <td>118.4</td>\n",
       "      <td>72.9</td>\n",
       "      <td>52.8</td>\n",
       "      <td>42.7</td>\n",
       "      <td>Failure</td>\n",
       "    </tr>\n",
       "    <tr>\n",
       "      <th>2</th>\n",
       "      <td>Pass</td>\n",
       "      <td>Reading WFC</td>\n",
       "      <td>From Goal Kick</td>\n",
       "      <td>Reading WFC</td>\n",
       "      <td>13</td>\n",
       "      <td>1</td>\n",
       "      <td>1</td>\n",
       "      <td>0</td>\n",
       "      <td>3</td>\n",
       "      <td>12.601587</td>\n",
       "      <td>54.039483</td>\n",
       "      <td>Ground Pass</td>\n",
       "      <td>13.4</td>\n",
       "      <td>54.2</td>\n",
       "      <td>6.0</td>\n",
       "      <td>44.0</td>\n",
       "      <td>Failure</td>\n",
       "    </tr>\n",
       "    <tr>\n",
       "      <th>3</th>\n",
       "      <td>Pass</td>\n",
       "      <td>Reading WFC</td>\n",
       "      <td>From Goal Kick</td>\n",
       "      <td>Reading WFC</td>\n",
       "      <td>17</td>\n",
       "      <td>1</td>\n",
       "      <td>1</td>\n",
       "      <td>7</td>\n",
       "      <td>3</td>\n",
       "      <td>22.489109</td>\n",
       "      <td>5.102165</td>\n",
       "      <td>Ground Pass</td>\n",
       "      <td>62.0</td>\n",
       "      <td>60.2</td>\n",
       "      <td>39.6</td>\n",
       "      <td>58.2</td>\n",
       "      <td>Failure</td>\n",
       "    </tr>\n",
       "    <tr>\n",
       "      <th>4</th>\n",
       "      <td>Pass</td>\n",
       "      <td>Reading WFC</td>\n",
       "      <td>From Goal Kick</td>\n",
       "      <td>Birmingham City WFC</td>\n",
       "      <td>24</td>\n",
       "      <td>1</td>\n",
       "      <td>1</td>\n",
       "      <td>11</td>\n",
       "      <td>3</td>\n",
       "      <td>34.269080</td>\n",
       "      <td>5.693957</td>\n",
       "      <td>High Pass</td>\n",
       "      <td>69.9</td>\n",
       "      <td>13.3</td>\n",
       "      <td>35.8</td>\n",
       "      <td>9.9</td>\n",
       "      <td>Failure</td>\n",
       "    </tr>\n",
       "  </tbody>\n",
       "</table>\n",
       "</div>"
      ],
      "text/plain": [
       "  type_name_x possession_team_name play_pattern_name            team_name  \\\n",
       "0        Pass  Birmingham City WFC     From Kick Off  Birmingham City WFC   \n",
       "1        Pass  Birmingham City WFC     From Kick Off  Birmingham City WFC   \n",
       "2        Pass          Reading WFC    From Goal Kick          Reading WFC   \n",
       "3        Pass          Reading WFC    From Goal Kick          Reading WFC   \n",
       "4        Pass          Reading WFC    From Goal Kick  Birmingham City WFC   \n",
       "\n",
       "   index  period  minute  second  possession  pass_length  pass_angle  \\\n",
       "0      5       1       0       0           2     7.117584 -175.971737   \n",
       "1      9       1       0       2           2    72.217730   24.719728   \n",
       "2     13       1       1       0           3    12.601587   54.039483   \n",
       "3     17       1       1       7           3    22.489109    5.102165   \n",
       "4     24       1       1      11           3    34.269080    5.693957   \n",
       "\n",
       "  pass_height_name  pass_end_location_x  pass_end_location_y  location_x  \\\n",
       "0      Ground Pass                 53.9                 39.6        61.0   \n",
       "1        High Pass                118.4                 72.9        52.8   \n",
       "2      Ground Pass                 13.4                 54.2         6.0   \n",
       "3      Ground Pass                 62.0                 60.2        39.6   \n",
       "4        High Pass                 69.9                 13.3        35.8   \n",
       "\n",
       "   location_y type_name_y  \n",
       "0        40.1     Failure  \n",
       "1        42.7     Failure  \n",
       "2        44.0     Failure  \n",
       "3        58.2     Failure  \n",
       "4         9.9     Failure  "
      ]
     },
     "execution_count": 58,
     "metadata": {},
     "output_type": "execute_result"
    }
   ],
   "source": [
    "df = df[non_id]\n",
    "df[\"pass_angle\"] = df[\"pass_angle\"].apply(convert_to_angle)\n",
    "df[\"type_name_y\"] = df[\"type_name_y\"].apply(getType)\n",
    "df = df.drop(columns = [\"pass_recipient_name\", \"pass_type_name\", \"pass_body_part_name\", \"timestamp\"])\n",
    "\n",
    "df.head()"
   ]
  },
  {
   "cell_type": "code",
   "execution_count": 59,
   "id": "33c773e2",
   "metadata": {},
   "outputs": [
    {
     "name": "stdout",
     "output_type": "stream",
     "text": [
      "There are 17 features and 1098083 observations.\n"
     ]
    }
   ],
   "source": [
    "print(\"There are \" + str(df.shape[1]) + \" features and \" + str(df.shape[0]) + \" observations.\")\n"
   ]
  },
  {
   "cell_type": "code",
   "execution_count": 60,
   "id": "0606dfb8",
   "metadata": {},
   "outputs": [
    {
     "data": {
      "text/plain": [
       "Success    720061\n",
       "Failure    292114\n",
       "Neutral     85908\n",
       "Name: type_name_y, dtype: int64"
      ]
     },
     "execution_count": 60,
     "metadata": {},
     "output_type": "execute_result"
    }
   ],
   "source": [
    "df[\"type_name_y\"].value_counts()"
   ]
  },
  {
   "cell_type": "code",
   "execution_count": 61,
   "id": "fd565ced-5d5d-4365-a922-bf7f120a797e",
   "metadata": {},
   "outputs": [
    {
     "name": "stdout",
     "output_type": "stream",
     "text": [
      "(768658, 16) , (329425, 16)\n"
     ]
    }
   ],
   "source": [
    "x = df.drop(columns = [\"type_name_y\"])\n",
    "y = df[\"type_name_y\"]\n",
    "\n",
    "x_train, x_test, y_train, y_test = train_test_split(x, y, test_size = 0.3)\n",
    "print(x_train.shape, \",\", x_test.shape)"
   ]
  },
  {
   "cell_type": "code",
   "execution_count": 62,
   "id": "ffe7b6ff-e562-4a74-a620-f843598d847a",
   "metadata": {},
   "outputs": [],
   "source": [
    "categorical_columns = x.dtypes[x.dtypes == \"object\"].index.tolist()\n",
    "numerical_columns = x.dtypes[x.dtypes != \"object\"].index.tolist()"
   ]
  },
  {
   "cell_type": "code",
   "execution_count": 63,
   "id": "10044872-b685-4a01-9bb3-69e69de49a2d",
   "metadata": {},
   "outputs": [],
   "source": [
    "num_pl = StandardScaler()\n",
    "cat_pl = OneHotEncoder()\n",
    "\n",
    "col_tr = ColumnTransformer([(\"categorical\", cat_pl, categorical_columns),\n",
    "                            (\"numerical\", num_pl, numerical_columns)])\n",
    "\n",
    "x_train_tr = col_tr.fit_transform(x_train)\n",
    "x_test_tr = col_tr.fit_transform(x_test)"
   ]
  },
  {
   "cell_type": "code",
   "execution_count": 65,
   "id": "ecbb0d47-dcd1-4af6-91e8-d70a7dfec9c2",
   "metadata": {},
   "outputs": [],
   "source": [
    "model = DecisionTreeClassifier()\n",
    "model = model.fit(x_train_tr, y_train)"
   ]
  },
  {
   "cell_type": "code",
   "execution_count": 66,
   "id": "6fa97504-f642-4bf3-b2ee-b6769b89d8c4",
   "metadata": {},
   "outputs": [
    {
     "data": {
      "text/plain": [
       "0.6773559990893223"
      ]
     },
     "execution_count": 66,
     "metadata": {},
     "output_type": "execute_result"
    }
   ],
   "source": [
    "preds = model.predict(x_test_tr)\n",
    "bool_arr = (preds == y_test)\n",
    "bool_arr.mean()"
   ]
  },
  {
   "cell_type": "code",
   "execution_count": 19,
   "id": "737e76d0-6e78-4894-b4c9-8dc3987921e8",
   "metadata": {
    "scrolled": true
   },
   "outputs": [
    {
     "data": {
      "text/plain": [
       "0.6731334901722699"
      ]
     },
     "execution_count": 19,
     "metadata": {},
     "output_type": "execute_result"
    }
   ],
   "source": [
    "f1 = f1_score(y_test, preds, average = 'micro')\n",
    "f1"
   ]
  },
  {
   "cell_type": "code",
   "execution_count": 38,
   "id": "af345fed",
   "metadata": {},
   "outputs": [
    {
     "data": {
      "text/plain": [
       "array(['Failure', 'Success', 'Failure', ..., 'Failure', 'Success',\n",
       "       'Success'], dtype=object)"
      ]
     },
     "execution_count": 38,
     "metadata": {},
     "output_type": "execute_result"
    }
   ],
   "source": [
    "preds"
   ]
  },
  {
   "cell_type": "code",
   "execution_count": 67,
   "id": "92b17417",
   "metadata": {
    "scrolled": true
   },
   "outputs": [
    {
     "data": {
      "text/html": [
       "<div>\n",
       "<style scoped>\n",
       "    .dataframe tbody tr th:only-of-type {\n",
       "        vertical-align: middle;\n",
       "    }\n",
       "\n",
       "    .dataframe tbody tr th {\n",
       "        vertical-align: top;\n",
       "    }\n",
       "\n",
       "    .dataframe thead th {\n",
       "        text-align: right;\n",
       "    }\n",
       "</style>\n",
       "<table border=\"1\" class=\"dataframe\">\n",
       "  <thead>\n",
       "    <tr style=\"text-align: right;\">\n",
       "      <th></th>\n",
       "      <th>Actual</th>\n",
       "      <th>Predict</th>\n",
       "      <th>Success</th>\n",
       "    </tr>\n",
       "  </thead>\n",
       "  <tbody>\n",
       "    <tr>\n",
       "      <th>726978</th>\n",
       "      <td>Success</td>\n",
       "      <td>Success</td>\n",
       "      <td>True</td>\n",
       "    </tr>\n",
       "    <tr>\n",
       "      <th>646290</th>\n",
       "      <td>Success</td>\n",
       "      <td>Success</td>\n",
       "      <td>True</td>\n",
       "    </tr>\n",
       "    <tr>\n",
       "      <th>812363</th>\n",
       "      <td>Success</td>\n",
       "      <td>Success</td>\n",
       "      <td>True</td>\n",
       "    </tr>\n",
       "    <tr>\n",
       "      <th>1011177</th>\n",
       "      <td>Failure</td>\n",
       "      <td>Neutral</td>\n",
       "      <td>False</td>\n",
       "    </tr>\n",
       "    <tr>\n",
       "      <th>370072</th>\n",
       "      <td>Failure</td>\n",
       "      <td>Failure</td>\n",
       "      <td>True</td>\n",
       "    </tr>\n",
       "  </tbody>\n",
       "</table>\n",
       "</div>"
      ],
      "text/plain": [
       "          Actual  Predict  Success\n",
       "726978   Success  Success     True\n",
       "646290   Success  Success     True\n",
       "812363   Success  Success     True\n",
       "1011177  Failure  Neutral    False\n",
       "370072   Failure  Failure     True"
      ]
     },
     "execution_count": 67,
     "metadata": {},
     "output_type": "execute_result"
    }
   ],
   "source": [
    "from sklearn.calibration import calibration_curve, CalibrationDisplay\n",
    "from sklearn.metrics import det_curve, DetCurveDisplay\n",
    "\n",
    "from sklearn.metrics import (precision_recall_curve, PrecisionRecallDisplay)\n",
    "\n",
    "# y_prob = model.predict_proba(x_test_tr)[:, 1]\n",
    "# prob_true, prob_pred = calibration_curve(y_test, y_prob, n_bins=10)\n",
    "# disp = CalibrationDisplay(prob_true, prob_pred, y_prob)\n",
    "\n",
    "# disp.plot()\n",
    "\n",
    "# fpr, fnr, _ = det_curve(y_test, preds)\n",
    "# display = DetCurveDisplay(fpr=fpr, fnr=fnr, estimator_name=\"dtc\")\n",
    "# display.plot()\n",
    "\n",
    "# precision, recall, _ = precision_recall_curve(y_test, preds)\n",
    "# disp = PrecisionRecallDisplay(precision=precision, recall=recall)\n",
    "# disp.plot()\n",
    "\n",
    "# cm = confusion_matrix(y_test, preds)\n",
    "# cm\n",
    "\n",
    "compare = pd.DataFrame({\"Actual\":y_test, \"Predict\":preds})\n",
    "compare[\"Success\"] = compare[\"Actual\"] == compare[\"Predict\"]\n",
    "compare.head()\n",
    "\n",
    "# fp = compare.loc[(compare[\"Actual\"] == False) & (compare[\"Predict\"] == True)].shape[0]\n",
    "# tp = compare.loc[(compare[\"Actual\"] == True) & (compare[\"Predict\"] == True)].shape[0]\n",
    "\n",
    "# fn = compare.loc[(compare[\"Actual\"] == True) & (compare[\"Predict\"] == False)].shape[0]\n",
    "# tn = compare.loc[(compare[\"Actual\"] == False) & (compare[\"Predict\"] == False)].shape[0]\n",
    "\n",
    "# confusion_matrix = np.array([[tp, fn],[fp, tn]])"
   ]
  },
  {
   "cell_type": "code",
   "execution_count": 69,
   "id": "2b27daca",
   "metadata": {},
   "outputs": [
    {
     "data": {
      "image/png": "[encoded data removed]",
      "text/plain": [
       "<Figure size 432x288 with 2 Axes>"
      ]
     },
     "metadata": {
      "needs_background": "light"
     },
     "output_type": "display_data"
    }
   ],
   "source": [
    "# tp = compare[compare[\"Success\"] == True].shape[0]\n",
    "# fp = \n",
    "\n",
    "ax = sns.heatmap(pd.crosstab(compare[\"Actual\"], compare[\"Predict\"]), annot = True, cmap = \"Blues\", fmt = \".1f\")"
   ]
  },
  {
   "cell_type": "code",
   "execution_count": 53,
   "id": "41d626e4",
   "metadata": {},
   "outputs": [
    {
     "data": {
      "image/png": "[encoded data removed]",
      "text/plain": [
       "<Figure size 432x288 with 2 Axes>"
      ]
     },
     "metadata": {
      "needs_background": "light"
     },
     "output_type": "display_data"
    }
   ],
   "source": [
    "import seaborn as sns\n",
    "\n",
    "ax = sns.heatmap(confusion_matrix, annot = True, cmap='Blues', fmt=\".1f\")\n",
    "\n",
    "ax.set_title('Seaborn Confusion Matrix with labels\\n\\n');\n",
    "ax.set_xlabel('\\nPredicted Values')\n",
    "ax.set_ylabel('Actual Values ');\n",
    "\n",
    "## Ticket labels - List must be in alphabetical order\n",
    "ax.xaxis.set_ticklabels(['False','True'])\n",
    "ax.yaxis.set_ticklabels(['False','True'])\n",
    "\n",
    "## Display the visualization of the Confusion Matrix.\n",
    "plt.show()"
   ]
  },
  {
   "cell_type": "code",
   "execution_count": 13,
   "id": "8a497531",
   "metadata": {},
   "outputs": [
    {
     "data": {
      "text/plain": [
       "{'ccp_alpha': 0.0,\n",
       " 'class_weight': None,\n",
       " 'criterion': 'gini',\n",
       " 'max_depth': None,\n",
       " 'max_features': None,\n",
       " 'max_leaf_nodes': None,\n",
       " 'min_impurity_decrease': 0.0,\n",
       " 'min_samples_leaf': 1,\n",
       " 'min_samples_split': 2,\n",
       " 'min_weight_fraction_leaf': 0.0,\n",
       " 'random_state': None,\n",
       " 'splitter': 'best'}"
      ]
     },
     "execution_count": 13,
     "metadata": {},
     "output_type": "execute_result"
    }
   ],
   "source": [
    "model.get_params()"
   ]
  },
  {
   "cell_type": "code",
   "execution_count": 15,
   "id": "ac8acc17",
   "metadata": {},
   "outputs": [],
   "source": [
    "params = {\n",
    "    'min_samples_split':[2,3,5,7],\n",
    "    'min_samples_leaf':[2,3,5,7],\n",
    "    'max_depth':[4,5,6,7,8]}\n",
    "\n",
    "optimizer = BayesSearchCV(DecisionTreeClassifier(), params)\n",
    "optimizer = optimizer.fit(x_train_tr, y_train)"
   ]
  },
  {
   "cell_type": "code",
   "execution_count": 20,
   "id": "4d8329ae",
   "metadata": {},
   "outputs": [
    {
     "data": {
      "text/plain": [
       "0.9363284510890187"
      ]
     },
     "execution_count": 20,
     "metadata": {},
     "output_type": "execute_result"
    }
   ],
   "source": [
    "opt_preds = optimizer.predict(x_test_tr)\n",
    "opt_acc = (opt_preds == y_test).mean()\n",
    "opt_acc"
   ]
  },
  {
   "cell_type": "code",
   "execution_count": 23,
   "id": "a161e079",
   "metadata": {},
   "outputs": [
    {
     "data": {
      "text/plain": [
       "{'cv': None,\n",
       " 'error_score': 'raise',\n",
       " 'estimator__ccp_alpha': 0.0,\n",
       " 'estimator__class_weight': None,\n",
       " 'estimator__criterion': 'gini',\n",
       " 'estimator__max_depth': None,\n",
       " 'estimator__max_features': None,\n",
       " 'estimator__max_leaf_nodes': None,\n",
       " 'estimator__min_impurity_decrease': 0.0,\n",
       " 'estimator__min_samples_leaf': 1,\n",
       " 'estimator__min_samples_split': 2,\n",
       " 'estimator__min_weight_fraction_leaf': 0.0,\n",
       " 'estimator__random_state': None,\n",
       " 'estimator__splitter': 'best',\n",
       " 'estimator': DecisionTreeClassifier(),\n",
       " 'fit_params': None,\n",
       " 'iid': 'deprecated',\n",
       " 'n_iter': 50,\n",
       " 'n_jobs': 1,\n",
       " 'n_points': 1,\n",
       " 'optimizer_kwargs': None,\n",
       " 'pre_dispatch': '2*n_jobs',\n",
       " 'random_state': None,\n",
       " 'refit': True,\n",
       " 'return_train_score': False,\n",
       " 'scoring': None,\n",
       " 'search_spaces': {'min_samples_split': [2, 3, 5, 7],\n",
       "  'min_samples_leaf': [2, 3, 5, 7],\n",
       "  'max_depth': [4, 5, 6, 7, 8]},\n",
       " 'verbose': 0}"
      ]
     },
     "execution_count": 23,
     "metadata": {},
     "output_type": "execute_result"
    }
   ],
   "source": [
    "optimizer.get_params()"
   ]
  },
  {
   "cell_type": "code",
   "execution_count": 70,
   "id": "6738fc2c",
   "metadata": {},
   "outputs": [
    {
     "data": {
      "text/html": [
       "<div>\n",
       "<style scoped>\n",
       "    .dataframe tbody tr th:only-of-type {\n",
       "        vertical-align: middle;\n",
       "    }\n",
       "\n",
       "    .dataframe tbody tr th {\n",
       "        vertical-align: top;\n",
       "    }\n",
       "\n",
       "    .dataframe thead th {\n",
       "        text-align: right;\n",
       "    }\n",
       "</style>\n",
       "<table border=\"1\" class=\"dataframe\">\n",
       "  <thead>\n",
       "    <tr style=\"text-align: right;\">\n",
       "      <th></th>\n",
       "      <th>Model</th>\n",
       "      <th>Accuracy</th>\n",
       "      <th>F1-Score</th>\n",
       "    </tr>\n",
       "  </thead>\n",
       "  <tbody>\n",
       "    <tr>\n",
       "      <th>0</th>\n",
       "      <td>Definition 1</td>\n",
       "      <td>0.97</td>\n",
       "      <td>0.95</td>\n",
       "    </tr>\n",
       "    <tr>\n",
       "      <th>1</th>\n",
       "      <td>Definition 2</td>\n",
       "      <td>0.91</td>\n",
       "      <td>0.95</td>\n",
       "    </tr>\n",
       "    <tr>\n",
       "      <th>2</th>\n",
       "      <td>Definition 3</td>\n",
       "      <td>0.70</td>\n",
       "      <td>0.67</td>\n",
       "    </tr>\n",
       "  </tbody>\n",
       "</table>\n",
       "</div>"
      ],
      "text/plain": [
       "          Model  Accuracy  F1-Score\n",
       "0  Definition 1      0.97      0.95\n",
       "1  Definition 2      0.91      0.95\n",
       "2  Definition 3      0.70      0.67"
      ]
     },
     "execution_count": 70,
     "metadata": {},
     "output_type": "execute_result"
    }
   ],
   "source": [
    "results = {\n",
    "    \"Model\": [\"Definition 1\", \"Definition 2\", \"Definition 3\"],\n",
    "    \"Accuracy\": [0.97, 0.91, 0.7],\n",
    "    \"F1-Score\": [0.95, 0.95, 0.67],\n",
    "}\n",
    "\n",
    "pd.DataFrame(results)"
   ]
  },
  {
   "cell_type": "code",
   "execution_count": 77,
   "id": "c4ba824f",
   "metadata": {},
   "outputs": [
    {
     "data": {
      "text/html": [
       "<div>\n",
       "<style scoped>\n",
       "    .dataframe tbody tr th:only-of-type {\n",
       "        vertical-align: middle;\n",
       "    }\n",
       "\n",
       "    .dataframe tbody tr th {\n",
       "        vertical-align: top;\n",
       "    }\n",
       "\n",
       "    .dataframe thead th {\n",
       "        text-align: right;\n",
       "    }\n",
       "</style>\n",
       "<table border=\"1\" class=\"dataframe\">\n",
       "  <thead>\n",
       "    <tr style=\"text-align: right;\">\n",
       "      <th></th>\n",
       "      <th>pass_end_location_x</th>\n",
       "      <th>pass_end_location_y</th>\n",
       "      <th>type_name_y</th>\n",
       "    </tr>\n",
       "  </thead>\n",
       "  <tbody>\n",
       "    <tr>\n",
       "      <th>0</th>\n",
       "      <td>53.9</td>\n",
       "      <td>39.6</td>\n",
       "      <td>Failure</td>\n",
       "    </tr>\n",
       "    <tr>\n",
       "      <th>1</th>\n",
       "      <td>118.4</td>\n",
       "      <td>72.9</td>\n",
       "      <td>Failure</td>\n",
       "    </tr>\n",
       "    <tr>\n",
       "      <th>2</th>\n",
       "      <td>13.4</td>\n",
       "      <td>54.2</td>\n",
       "      <td>Failure</td>\n",
       "    </tr>\n",
       "    <tr>\n",
       "      <th>3</th>\n",
       "      <td>62.0</td>\n",
       "      <td>60.2</td>\n",
       "      <td>Failure</td>\n",
       "    </tr>\n",
       "    <tr>\n",
       "      <th>4</th>\n",
       "      <td>69.9</td>\n",
       "      <td>13.3</td>\n",
       "      <td>Failure</td>\n",
       "    </tr>\n",
       "  </tbody>\n",
       "</table>\n",
       "</div>"
      ],
      "text/plain": [
       "   pass_end_location_x  pass_end_location_y type_name_y\n",
       "0                 53.9                 39.6     Failure\n",
       "1                118.4                 72.9     Failure\n",
       "2                 13.4                 54.2     Failure\n",
       "3                 62.0                 60.2     Failure\n",
       "4                 69.9                 13.3     Failure"
      ]
     },
     "execution_count": 77,
     "metadata": {},
     "output_type": "execute_result"
    }
   ],
   "source": [
    "loc = df[[\"pass_end_location_x\", \"pass_end_location_y\", \"type_name_y\"]]\n",
    "loc.head()"
   ]
  },
  {
   "cell_type": "code",
   "execution_count": 79,
   "id": "af219d2a",
   "metadata": {},
   "outputs": [
    {
     "data": {
      "text/plain": [
       "<matplotlib.collections.PathCollection at 0x7feebca6bb50>"
      ]
     },
     "execution_count": 79,
     "metadata": {},
     "output_type": "execute_result"
    },
    {
     "data": {
      "image/png": "[encoded data removed]",
      "text/plain": [
       "<Figure size 432x288 with 1 Axes>"
      ]
     },
     "metadata": {
      "needs_background": "light"
     },
     "output_type": "display_data"
    }
   ],
   "source": [
    "plt.scatter(data = loc, x = \"pass_end_location_x\", y = \"pass_end_location_y\", label = \"type_name_y\")"
   ]
  },
  {
   "cell_type": "code",
   "execution_count": 80,
   "id": "b397b95f",
   "metadata": {},
   "outputs": [
    {
     "data": {
      "text/plain": [
       "Index(['type_name_x', 'possession_team_name', 'play_pattern_name', 'team_name',\n",
       "       'index', 'period', 'minute', 'second', 'possession', 'pass_length',\n",
       "       'pass_angle', 'pass_height_name', 'pass_end_location_x',\n",
       "       'pass_end_location_y', 'location_x', 'location_y', 'type_name_y'],\n",
       "      dtype='object')"
      ]
     },
     "execution_count": 80,
     "metadata": {},
     "output_type": "execute_result"
    }
   ],
   "source": [
    "df.columns"
   ]
  },
  {
   "cell_type": "code",
   "execution_count": null,
   "id": "3e20e8b7",
   "metadata": {},
   "outputs": [],
   "source": [
    "df.groupby(\"type_name_y\")[\"pass_height_name\"].sum()"
   ]
  },
  {
   "cell_type": "code",
   "execution_count": null,
   "id": "cca2db7c",
   "metadata": {},
   "outputs": [],
   "source": []
  }
 ],
 "metadata": {
  "kernelspec": {
   "display_name": "Python 3 (ipykernel)",
   "language": "python",
   "name": "python3"
  },
  "language_info": {
   "codemirror_mode": {
    "name": "ipython",
    "version": 3
   },
   "file_extension": ".py",
   "mimetype": "text/x-python",
   "name": "python",
   "nbconvert_exporter": "python",
   "pygments_lexer": "ipython3",
   "version": "3.8.2"
  }
 },
 "nbformat": 4,
 "nbformat_minor": 5
}

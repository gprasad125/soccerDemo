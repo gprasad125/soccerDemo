{
 "cells": [
  {
   "cell_type": "code",
   "execution_count": 1,
   "id": "e1262bcc-3bc9-4b3c-a499-28e181c19658",
   "metadata": {},
   "outputs": [],
   "source": [
    "import pandas as pd\n",
    "import numpy as np\n",
    "import matplotlib.pyplot as plt\n",
    "\n",
    "from sklearn.model_selection import train_test_split"
   ]
  },
  {
   "cell_type": "code",
   "execution_count": 2,
   "id": "f62789d1-9dd6-40d1-91a0-a3d6befdc451",
   "metadata": {},
   "outputs": [],
   "source": [
    "df = pd.read_csv(\"predicting_pass.csv\")"
   ]
  },
  {
   "cell_type": "code",
   "execution_count": 3,
   "id": "0d27f49e-234b-4307-9914-64da248fae4f",
   "metadata": {},
   "outputs": [
    {
     "data": {
      "text/html": [
       "<div>\n",
       "<style scoped>\n",
       "    .dataframe tbody tr th:only-of-type {\n",
       "        vertical-align: middle;\n",
       "    }\n",
       "\n",
       "    .dataframe tbody tr th {\n",
       "        vertical-align: top;\n",
       "    }\n",
       "\n",
       "    .dataframe thead th {\n",
       "        text-align: right;\n",
       "    }\n",
       "</style>\n",
       "<table border=\"1\" class=\"dataframe\">\n",
       "  <thead>\n",
       "    <tr style=\"text-align: right;\">\n",
       "      <th></th>\n",
       "      <th>type_id</th>\n",
       "      <th>type_name</th>\n",
       "      <th>possession_team_id</th>\n",
       "      <th>possession_team_name</th>\n",
       "      <th>play_pattern_id</th>\n",
       "      <th>play_pattern_name</th>\n",
       "      <th>team_id</th>\n",
       "      <th>team_name</th>\n",
       "      <th>match_id</th>\n",
       "      <th>id</th>\n",
       "      <th>...</th>\n",
       "      <th>pass_height_name</th>\n",
       "      <th>pass_type_id</th>\n",
       "      <th>pass_type_name</th>\n",
       "      <th>pass_body_part_id</th>\n",
       "      <th>pass_body_part_name</th>\n",
       "      <th>pass_end_location_x</th>\n",
       "      <th>pass_end_location_y</th>\n",
       "      <th>location_x</th>\n",
       "      <th>location_y</th>\n",
       "      <th>Success</th>\n",
       "    </tr>\n",
       "  </thead>\n",
       "  <tbody>\n",
       "    <tr>\n",
       "      <th>0</th>\n",
       "      <td>30</td>\n",
       "      <td>Pass</td>\n",
       "      <td>969</td>\n",
       "      <td>Birmingham City WFC</td>\n",
       "      <td>9</td>\n",
       "      <td>From Kick Off</td>\n",
       "      <td>969</td>\n",
       "      <td>Birmingham City WFC</td>\n",
       "      <td>2275050</td>\n",
       "      <td>c0927b64-b182-4e44-83f0-b77222d600f8</td>\n",
       "      <td>...</td>\n",
       "      <td>Ground Pass</td>\n",
       "      <td>65.0</td>\n",
       "      <td>Kick Off</td>\n",
       "      <td>40.0</td>\n",
       "      <td>Right Foot</td>\n",
       "      <td>53.9</td>\n",
       "      <td>39.6</td>\n",
       "      <td>61.0</td>\n",
       "      <td>40.1</td>\n",
       "      <td>True</td>\n",
       "    </tr>\n",
       "    <tr>\n",
       "      <th>1</th>\n",
       "      <td>30</td>\n",
       "      <td>Pass</td>\n",
       "      <td>969</td>\n",
       "      <td>Birmingham City WFC</td>\n",
       "      <td>9</td>\n",
       "      <td>From Kick Off</td>\n",
       "      <td>969</td>\n",
       "      <td>Birmingham City WFC</td>\n",
       "      <td>2275050</td>\n",
       "      <td>71905fc2-e4fb-4429-8f44-11c3942ade7d</td>\n",
       "      <td>...</td>\n",
       "      <td>High Pass</td>\n",
       "      <td>NaN</td>\n",
       "      <td>NaN</td>\n",
       "      <td>40.0</td>\n",
       "      <td>Right Foot</td>\n",
       "      <td>118.4</td>\n",
       "      <td>72.9</td>\n",
       "      <td>52.8</td>\n",
       "      <td>42.7</td>\n",
       "      <td>True</td>\n",
       "    </tr>\n",
       "    <tr>\n",
       "      <th>2</th>\n",
       "      <td>30</td>\n",
       "      <td>Pass</td>\n",
       "      <td>974</td>\n",
       "      <td>Reading WFC</td>\n",
       "      <td>7</td>\n",
       "      <td>From Goal Kick</td>\n",
       "      <td>974</td>\n",
       "      <td>Reading WFC</td>\n",
       "      <td>2275050</td>\n",
       "      <td>7c8f43bb-78d6-421b-a485-c8ddb83e7b1d</td>\n",
       "      <td>...</td>\n",
       "      <td>Ground Pass</td>\n",
       "      <td>63.0</td>\n",
       "      <td>Goal Kick</td>\n",
       "      <td>38.0</td>\n",
       "      <td>Left Foot</td>\n",
       "      <td>13.4</td>\n",
       "      <td>54.2</td>\n",
       "      <td>6.0</td>\n",
       "      <td>44.0</td>\n",
       "      <td>True</td>\n",
       "    </tr>\n",
       "    <tr>\n",
       "      <th>3</th>\n",
       "      <td>30</td>\n",
       "      <td>Pass</td>\n",
       "      <td>974</td>\n",
       "      <td>Reading WFC</td>\n",
       "      <td>7</td>\n",
       "      <td>From Goal Kick</td>\n",
       "      <td>974</td>\n",
       "      <td>Reading WFC</td>\n",
       "      <td>2275050</td>\n",
       "      <td>575a6ca7-9736-4487-bd1f-12ee10011319</td>\n",
       "      <td>...</td>\n",
       "      <td>Ground Pass</td>\n",
       "      <td>NaN</td>\n",
       "      <td>NaN</td>\n",
       "      <td>40.0</td>\n",
       "      <td>Right Foot</td>\n",
       "      <td>62.0</td>\n",
       "      <td>60.2</td>\n",
       "      <td>39.6</td>\n",
       "      <td>58.2</td>\n",
       "      <td>True</td>\n",
       "    </tr>\n",
       "    <tr>\n",
       "      <th>4</th>\n",
       "      <td>30</td>\n",
       "      <td>Pass</td>\n",
       "      <td>974</td>\n",
       "      <td>Reading WFC</td>\n",
       "      <td>7</td>\n",
       "      <td>From Goal Kick</td>\n",
       "      <td>969</td>\n",
       "      <td>Birmingham City WFC</td>\n",
       "      <td>2275050</td>\n",
       "      <td>719c6c68-fa1e-4aab-ab70-601450bc44d6</td>\n",
       "      <td>...</td>\n",
       "      <td>High Pass</td>\n",
       "      <td>NaN</td>\n",
       "      <td>NaN</td>\n",
       "      <td>38.0</td>\n",
       "      <td>Left Foot</td>\n",
       "      <td>69.9</td>\n",
       "      <td>13.3</td>\n",
       "      <td>35.8</td>\n",
       "      <td>9.9</td>\n",
       "      <td>True</td>\n",
       "    </tr>\n",
       "  </tbody>\n",
       "</table>\n",
       "<p>5 rows × 31 columns</p>\n",
       "</div>"
      ],
      "text/plain": [
       "   type_id type_name  possession_team_id possession_team_name  \\\n",
       "0       30      Pass                 969  Birmingham City WFC   \n",
       "1       30      Pass                 969  Birmingham City WFC   \n",
       "2       30      Pass                 974          Reading WFC   \n",
       "3       30      Pass                 974          Reading WFC   \n",
       "4       30      Pass                 974          Reading WFC   \n",
       "\n",
       "   play_pattern_id play_pattern_name  team_id            team_name  match_id  \\\n",
       "0                9     From Kick Off      969  Birmingham City WFC   2275050   \n",
       "1                9     From Kick Off      969  Birmingham City WFC   2275050   \n",
       "2                7    From Goal Kick      974          Reading WFC   2275050   \n",
       "3                7    From Goal Kick      974          Reading WFC   2275050   \n",
       "4                7    From Goal Kick      969  Birmingham City WFC   2275050   \n",
       "\n",
       "                                     id  ...  pass_height_name  pass_type_id  \\\n",
       "0  c0927b64-b182-4e44-83f0-b77222d600f8  ...       Ground Pass          65.0   \n",
       "1  71905fc2-e4fb-4429-8f44-11c3942ade7d  ...         High Pass           NaN   \n",
       "2  7c8f43bb-78d6-421b-a485-c8ddb83e7b1d  ...       Ground Pass          63.0   \n",
       "3  575a6ca7-9736-4487-bd1f-12ee10011319  ...       Ground Pass           NaN   \n",
       "4  719c6c68-fa1e-4aab-ab70-601450bc44d6  ...         High Pass           NaN   \n",
       "\n",
       "  pass_type_name  pass_body_part_id  pass_body_part_name  pass_end_location_x  \\\n",
       "0       Kick Off               40.0           Right Foot                 53.9   \n",
       "1            NaN               40.0           Right Foot                118.4   \n",
       "2      Goal Kick               38.0            Left Foot                 13.4   \n",
       "3            NaN               40.0           Right Foot                 62.0   \n",
       "4            NaN               38.0            Left Foot                 69.9   \n",
       "\n",
       "   pass_end_location_y  location_x  location_y Success  \n",
       "0                 39.6        61.0        40.1    True  \n",
       "1                 72.9        52.8        42.7    True  \n",
       "2                 54.2         6.0        44.0    True  \n",
       "3                 60.2        39.6        58.2    True  \n",
       "4                 13.3        35.8         9.9    True  \n",
       "\n",
       "[5 rows x 31 columns]"
      ]
     },
     "execution_count": 3,
     "metadata": {},
     "output_type": "execute_result"
    }
   ],
   "source": [
    "df.head()"
   ]
  },
  {
   "cell_type": "code",
   "execution_count": 4,
   "id": "6143784c-d1b2-40d3-9d83-356e9bee9587",
   "metadata": {},
   "outputs": [],
   "source": [
    "non_id = []\n",
    "for col in df.columns:\n",
    "    if \"id\" not in col:\n",
    "        non_id.append(col)\n"
   ]
  },
  {
   "cell_type": "code",
   "execution_count": 5,
   "id": "2b402920-7041-42f4-9011-efb7d93ef69f",
   "metadata": {},
   "outputs": [],
   "source": [
    "df = df[non_id]\n",
    "df = df.drop(columns = [\"pass_recipient_name\", \"pass_type_name\", \"pass_body_part_name\"])"
   ]
  },
  {
   "cell_type": "code",
   "execution_count": 8,
   "id": "e9a946a8-82e1-4c3a-b37a-e573ee91d562",
   "metadata": {},
   "outputs": [],
   "source": [
    "df.head()\n",
    "df = df.drop(columns = [\"timestamp\"])"
   ]
  },
  {
   "cell_type": "code",
   "execution_count": 10,
   "id": "2e2a7e87-2f5f-41e8-902e-48eeb80f22d5",
   "metadata": {},
   "outputs": [
    {
     "name": "stdout",
     "output_type": "stream",
     "text": [
      "768674 , 329432\n"
     ]
    }
   ],
   "source": [
    "x = df.drop(columns = [\"Success\"])\n",
    "y = df[\"Success\"]\n",
    "\n",
    "x_train, x_test, y_train, y_test = train_test_split(x, y, test_size = 0.3)\n",
    "\n",
    "print(x_train.shape[0], \",\", x_test.shape[0])"
   ]
  },
  {
   "cell_type": "code",
   "execution_count": 11,
   "id": "b7ab1a3d-3ab0-4f8d-bfe0-c03786d3e3a2",
   "metadata": {},
   "outputs": [],
   "source": [
    "categorical_columns = x.dtypes[x.dtypes == \"object\"].index.tolist()\n",
    "numerical_columns = x.dtypes[x.dtypes != \"object\"].index.tolist()"
   ]
  },
  {
   "cell_type": "code",
   "execution_count": 12,
   "id": "2b366f99-1f68-411b-8304-543d63a92033",
   "metadata": {},
   "outputs": [],
   "source": [
    "from sklearn.pipeline import Pipeline\n",
    "from sklearn.preprocessing import OneHotEncoder\n",
    "from sklearn.tree import DecisionTreeClassifier\n",
    "from sklearn.compose import ColumnTransformer\n",
    "from sklearn.preprocessing import StandardScaler"
   ]
  },
  {
   "cell_type": "code",
   "execution_count": 13,
   "id": "02881f2d-cecc-4a42-badf-c50d2f195632",
   "metadata": {},
   "outputs": [],
   "source": [
    "num_pl = StandardScaler()\n",
    "cat_pl = OneHotEncoder()\n",
    "\n",
    "col_tr = ColumnTransformer([(\"categorical\", cat_pl, categorical_columns),\n",
    "                            (\"numerical\", num_pl, numerical_columns)])\n",
    "\n",
    "model = Pipeline([(\"process\", col_tr), (\"classify\", DecisionTreeClassifier())])"
   ]
  },
  {
   "cell_type": "code",
   "execution_count": 14,
   "id": "e7ef203a-8d74-40ba-949a-e86ece7a8802",
   "metadata": {},
   "outputs": [],
   "source": [
    "model = model.fit(x_train, y_train)"
   ]
  },
  {
   "cell_type": "code",
   "execution_count": 15,
   "id": "c105c647",
   "metadata": {},
   "outputs": [],
   "source": [
    "preds = model.predict(x_test)"
   ]
  },
  {
   "cell_type": "code",
   "execution_count": 17,
   "id": "a97106db",
   "metadata": {},
   "outputs": [
    {
     "data": {
      "text/plain": [
       "0.9706069841424027"
      ]
     },
     "execution_count": 17,
     "metadata": {},
     "output_type": "execute_result"
    }
   ],
   "source": [
    "bool_arr = (preds == y_test)\n",
    "bool_arr.mean()"
   ]
  },
  {
   "cell_type": "code",
   "execution_count": 19,
   "id": "51d8e0f9",
   "metadata": {},
   "outputs": [
    {
     "data": {
      "text/plain": [
       "0.9706069841424027"
      ]
     },
     "execution_count": 19,
     "metadata": {},
     "output_type": "execute_result"
    }
   ],
   "source": [
    "model.score(x_test, y_test)"
   ]
  },
  {
   "cell_type": "code",
   "execution_count": null,
   "id": "a974f516",
   "metadata": {},
   "outputs": [],
   "source": []
  }
 ],
 "metadata": {
  "kernelspec": {
   "display_name": "Python 3 (ipykernel)",
   "language": "python",
   "name": "python3"
  },
  "language_info": {
   "codemirror_mode": {
    "name": "ipython",
    "version": 3
   },
   "file_extension": ".py",
   "mimetype": "text/x-python",
   "name": "python",
   "nbconvert_exporter": "python",
   "pygments_lexer": "ipython3",
   "version": "3.8.2"
  }
 },
 "nbformat": 4,
 "nbformat_minor": 5
}

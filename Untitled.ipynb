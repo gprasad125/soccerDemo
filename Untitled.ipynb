{
 "cells": [
  {
   "cell_type": "code",
   "execution_count": 3,
   "id": "bfe8a4bd-b8df-48a3-801b-8bd21890ee36",
   "metadata": {},
   "outputs": [],
   "source": [
    "import pandas as pd\n",
    "import numpy as np\n",
    "import altair as alt\n",
    "import random"
   ]
  },
  {
   "cell_type": "code",
   "execution_count": 4,
   "id": "b79c457b-b4e9-4784-9ce0-713faecce2a7",
   "metadata": {},
   "outputs": [],
   "source": [
    "df = pd.read_csv(\"https://media.githubusercontent.com/media/gprasad125/soccerDemo/main/coord_events.csv\")\n",
    "def to_int(coord):\n",
    "    \n",
    "    if not pd.isnull(coord):\n",
    "        \n",
    "        coord = int(coord)\n",
    "    \n",
    "    return coord\n",
    "\n",
    "df['location_x'] = df['location_x'].apply(to_int)\n",
    "df['location_y'] = df['location_y'].apply(to_int)\n",
    "\n",
    "clean = df.dropna().reset_index(drop = True)\n",
    "clean = clean.rename(columns = {\"possession_team_name\": \"team\",\n",
    "                                \"type_name\": \"event\",\n",
    "                               \"location_x\": \"x\",\n",
    "                               \"location_y\": \"y\"})\n",
    "\n",
    "clean = clean.sample(frac=1).reset_index(drop = True)\n",
    "\n",
    "def make_color():\n",
    "    \n",
    "    color = \"#\"+''.join([random.choice('0123456789ABCDEF') for j in range(6)])\n",
    "    return color\n",
    "\n",
    "event_colors = dict.fromkeys(clean['event'].unique())\n",
    "for ev in event_colors:\n",
    "    \n",
    "    number_of_colors = 8\n",
    "    color = make_color()\n",
    "    if color not in event_colors.values():\n",
    "        event_colors[ev] = color"
   ]
  },
  {
   "cell_type": "code",
   "execution_count": 6,
   "id": "d649d79a",
   "metadata": {},
   "outputs": [],
   "source": []
  },
  {
   "cell_type": "code",
   "execution_count": null,
   "id": "1e9899f5",
   "metadata": {},
   "outputs": [],
   "source": [
    "alt.data_transformers.disable_max_rows()\n",
    "alt.Chart(clean).mark_point().encode(x = \"x\", y = \"y\", color = \"event\")"
   ]
  },
  {
   "cell_type": "code",
   "execution_count": null,
   "id": "278d5349",
   "metadata": {},
   "outputs": [],
   "source": []
  }
 ],
 "metadata": {
  "kernelspec": {
   "display_name": "Python 3 (ipykernel)",
   "language": "python",
   "name": "python3"
  },
  "language_info": {
   "codemirror_mode": {
    "name": "ipython",
    "version": 3
   },
   "file_extension": ".py",
   "mimetype": "text/x-python",
   "name": "python",
   "nbconvert_exporter": "python",
   "pygments_lexer": "ipython3",
   "version": "3.8.2"
  }
 },
 "nbformat": 4,
 "nbformat_minor": 5
}
